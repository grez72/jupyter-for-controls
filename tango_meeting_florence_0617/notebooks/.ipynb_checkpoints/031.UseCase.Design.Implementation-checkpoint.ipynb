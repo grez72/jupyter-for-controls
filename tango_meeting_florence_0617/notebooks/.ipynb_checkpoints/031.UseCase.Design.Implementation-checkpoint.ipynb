{
 "cells": [
  {
   "cell_type": "markdown",
   "metadata": {
    "slideshow": {
     "slide_type": "slide"
    }
   },
   "source": [
    "<div style=\"-webkit-column-count: 3; -moz-column-count: 3; column-count: 3; -webkit-column-rule: 1px dotted #e0e0e0; -moz-column-rule: 1px dotted #e0e0e0; column-rule: 1px dotted #e0e0e0\">\n",
    "    <div style=\"display: inline-block;\" >\n",
    "        <img src=\"../resources/images/tango_controls_logo.png\" width=\"14\" height=\"14\">\n",
    "    </div>\n",
    "    <div style=\"display: inline-block; font-size:18px;\">\n",
    "        <b>Jupyter: mixing CLI & GUI for beamline controls</b>\n",
    "    </div>\n",
    "</div>\n",
    "<div style=\"display: inline-block; font-size:12px;\">\n",
    "    N. Leclercq - 31st Tango Meeting - Florence - June 2017\n",
    "</div>"
   ]
  },
  {
   "cell_type": "markdown",
   "metadata": {},
   "source": [
    "# Design & Implementation \n",
    "\n",
    "The solutions are built on top of: \n",
    "\n",
    "* **jupyter**\n",
    "    * notebook: frontend\n",
    "    * python kernel: backend\n",
    "    * ipywidgets: UI widgets\n",
    "    * ipython magics: autocompletion on scan configurations\n",
    "    \n",
    "    \n",
    "* **bokeh**\n",
    "    * 1D & 2D live data visualization \n",
    "    * user interaction with plots \n",
    "    \n",
    "    \n",
    "* **pytango**\n",
    "    * tango communications \n",
    "    * itango for autocompletion on devices & attributes names"
   ]
  },
  {
   "cell_type": "code",
   "execution_count": null,
   "metadata": {
    "collapsed": true
   },
   "outputs": [],
   "source": []
  }
 ],
 "metadata": {
  "kernelspec": {
   "display_name": "Python 3",
   "language": "python",
   "name": "python3"
  },
  "language_info": {
   "codemirror_mode": {
    "name": "ipython",
    "version": 3
   },
   "file_extension": ".py",
   "mimetype": "text/x-python",
   "name": "python",
   "nbconvert_exporter": "python",
   "pygments_lexer": "ipython3",
   "version": "3.6.0"
  },
  "widgets": {
   "application/vnd.jupyter.widget-state+json": {
    "state": {},
    "version_major": 1,
    "version_minor": 0
   }
  }
 },
 "nbformat": 4,
 "nbformat_minor": 2
}
