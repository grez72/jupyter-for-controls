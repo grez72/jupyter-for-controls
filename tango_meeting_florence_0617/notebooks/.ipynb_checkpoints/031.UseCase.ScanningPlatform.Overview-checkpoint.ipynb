{
 "cells": [
  {
   "cell_type": "markdown",
   "metadata": {
    "slideshow": {
     "slide_type": "slide"
    }
   },
   "source": [
    "<div style=\"-webkit-column-count: 3; -moz-column-count: 3; column-count: 3; -webkit-column-rule: 1px dotted #e0e0e0; -moz-column-rule: 1px dotted #e0e0e0; column-rule: 1px dotted #e0e0e0\">\n",
    "    <div style=\"display: inline-block;\" >\n",
    "        <img src=\"../resources/images/tango_controls_logo.png\" width=\"14\" height=\"14\">\n",
    "    </div>\n",
    "    <div style=\"display: inline-block; font-size:18px;\">\n",
    "        <b>Jupyter: mixing CLI & GUI for beamline controls</b>\n",
    "    </div>\n",
    "</div>\n",
    "<div style=\"display: inline-block; font-size:12px;\">\n",
    "    N. Leclercq - 31st Tango Meeting - Florence - June 2017\n",
    "</div>"
   ]
  },
  {
   "cell_type": "code",
   "execution_count": 8,
   "metadata": {},
   "outputs": [
    {
     "data": {
      "text/html": [
       "<script>\n",
       "code_show=true; \n",
       "function code_toggle() {\n",
       " if (code_show){\n",
       " $('div.input').hide();\n",
       " } else {\n",
       " $('div.input').show();\n",
       " }\n",
       " code_show = !code_show\n",
       "} \n",
       "$(document).ready(code_toggle);\n",
       "</script>\n",
       "The raw code for this IPython notebook is by default hidden for easier reading.\n",
       "To toggle on/off the raw code, click <a href=\"javascript:code_toggle()\">here</a>"
      ],
      "text/plain": [
       "<IPython.core.display.HTML object>"
      ]
     },
     "metadata": {},
     "output_type": "display_data"
    }
   ],
   "source": [
    "%%HTML\n",
    "<script>\n",
    "code_show=true; \n",
    "function code_toggle() {\n",
    " if (code_show){\n",
    " $('div.input').hide();\n",
    " } else {\n",
    " $('div.input').show();\n",
    " }\n",
    " code_show = !code_show\n",
    "} \n",
    "$(document).ready(code_toggle);\n",
    "</script>\n",
    "The raw code for this IPython notebook is by default hidden for easier reading.\n",
    "To toggle on/off the raw code, click <a href=\"javascript:code_toggle()\">here</a>"
   ]
  },
  {
   "cell_type": "markdown",
   "metadata": {},
   "source": [
    "## Jupyter use case example: a scanning platform interface\n",
    "\n",
    "### Why Jupyter?\n",
    "Mainly because it can provide the best of both CLI & GUI world in a single environnement. Jupyter is also a wonderful convergence platform.\n",
    "\n",
    "### What does \"scanning\" mean for a synchrotron beamline?\n",
    "On a synchrotron beamline, science comes from the interaction between matter (i.e. a sample) and synchrotron light (i.e. the beam delivered by the storage ring). \n",
    "\n",
    "A scan is the nD data acquisition process involving actuators (i.e. movables, variables,...) and sensors (i.e. any data source, mostly detectors).   \n",
    "\n",
    "### An example of experimental setup: continuous 2D scan "
   ]
  },
  {
   "cell_type": "code",
   "execution_count": 9,
   "metadata": {
    "scrolled": false,
    "slideshow": {
     "slide_type": "subslide"
    }
   },
   "outputs": [
    {
     "data": {
      "text/html": [
       "<video width=\"800\" height=\"400\" controls loop>\n",
       "  <source src=\"../resources/videos/FlyscanPrinciple.mp4\" type=\"video/mp4\">\n",
       "</video>"
      ],
      "text/plain": [
       "<IPython.core.display.HTML object>"
      ]
     },
     "metadata": {},
     "output_type": "display_data"
    }
   ],
   "source": [
    "%%HTML\n",
    "<video width=\"800\" height=\"400\" controls loop>\n",
    "  <source src=\"../resources/videos/FlyscanPrinciple.mp4\" type=\"video/mp4\">\n",
    "</video>"
   ]
  },
  {
   "cell_type": "markdown",
   "metadata": {
    "slideshow": {
     "slide_type": "subslide"
    }
   },
   "source": [
    "### Underlying HW & SW architecture: data acquisition"
   ]
  },
  {
   "cell_type": "code",
   "execution_count": 10,
   "metadata": {
    "slideshow": {
     "slide_type": "subslide"
    }
   },
   "outputs": [
    {
     "data": {
      "text/html": [
       "<video width=\"700\" height=\"500\" controls loop>\n",
       "  <source src=\"../resources/videos/FlyscanPrincipleHwSwArch.mp4\" type=\"video/mp4\">\n",
       "</video>"
      ],
      "text/plain": [
       "<IPython.core.display.HTML object>"
      ]
     },
     "metadata": {},
     "output_type": "display_data"
    }
   ],
   "source": [
    "%%HTML\n",
    "<video width=\"700\" height=\"500\" controls loop>\n",
    "  <source src=\"../resources/videos/FlyscanPrincipleHwSwArch.mp4\" type=\"video/mp4\">\n",
    "</video>"
   ]
  },
  {
   "cell_type": "markdown",
   "metadata": {},
   "source": [
    "### Underlying HW & SW architecture: online data processing and visualization"
   ]
  },
  {
   "cell_type": "code",
   "execution_count": 11,
   "metadata": {
    "scrolled": false
   },
   "outputs": [
    {
     "data": {
      "text/html": [
       "<img src=\"../resources/images/FlyScanViewer.png\" width=\"700\" height=\"500\">"
      ],
      "text/plain": [
       "<IPython.core.display.HTML object>"
      ]
     },
     "metadata": {},
     "output_type": "display_data"
    }
   ],
   "source": [
    "%%HTML\n",
    "<img src=\"../resources/images/FlyScanViewer.png\" width=\"700\" height=\"500\">"
   ]
  },
  {
   "cell_type": "markdown",
   "metadata": {
    "collapsed": true
   },
   "source": [
    "### What's the scanning platform interface supposed to provide?\n",
    "* tools to configure, start, monitor and abort a scan\n",
    "    * scan configuration:\n",
    "        * main parameters: e.g. scan domain, pixel size, integration-time/pixel, ...  \n",
    "        * subsystems configuration: data recording, online processing, ... \n",
    "    * scan monitoring:\n",
    "        * global system state overview: devices health, logging, ... \n",
    "        * experiment validation: soft realtime data [processing and] visualization \n",
    "* tools to enhance user experience  \n",
    "    * e.g. absolute localization in sample\n",
    "    * e.g. scan domain specification from sample image   \n",
    "        "
   ]
  },
  {
   "cell_type": "markdown",
   "metadata": {
    "collapsed": true
   },
   "source": [
    "### Design & Implementation \n",
    "The solution is built on top of: \n",
    "* **jupyter**\n",
    "    * notebook: frontend\n",
    "    * python kernel: backend\n",
    "    * ipywidgets: UI widgets\n",
    "    * ipython magics: autocompletion on scan configurations\n",
    "    \n",
    "* **bokeh**\n",
    "    * 1D & 2D live data visualization \n",
    "    * user interaction with plots \n",
    "    \n",
    "    \n",
    "* **pytango**\n",
    "    * tango communications \n",
    "    * itango for autocompletion on devices & attributes names\n",
    "    \n",
    "    \n",
    "* **scanning platform API (python)**\n",
    "    * high level specific API\n",
    "    * generic introspection on scan configurations => **auto. UI generation**\n",
    "    * scan configurations contain data visualization specs. => **auto. data display**"
   ]
  }
 ],
 "metadata": {
  "kernelspec": {
   "display_name": "Python 3",
   "language": "python",
   "name": "python3"
  },
  "language_info": {
   "codemirror_mode": {
    "name": "ipython",
    "version": 3
   },
   "file_extension": ".py",
   "mimetype": "text/x-python",
   "name": "python",
   "nbconvert_exporter": "python",
   "pygments_lexer": "ipython3",
   "version": "3.6.0"
  },
  "widgets": {
   "application/vnd.jupyter.widget-state+json": {
    "state": {},
    "version_major": 1,
    "version_minor": 0
   }
  }
 },
 "nbformat": 4,
 "nbformat_minor": 2
}
