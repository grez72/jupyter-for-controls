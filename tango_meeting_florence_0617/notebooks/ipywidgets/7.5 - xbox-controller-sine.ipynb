{
 "cells": [
  {
   "cell_type": "code",
   "execution_count": 1,
   "metadata": {},
   "outputs": [
    {
     "data": {
      "application/vnd.jupyter.widget-view+json": {
       "model_id": "3865f672be1948f79c42aa8e2a7fa79b"
      }
     },
     "metadata": {},
     "output_type": "display_data"
    }
   ],
   "source": [
    "from ipywidgets import Controller\n",
    "pad = Controller()\n",
    "pad"
   ]
  },
  {
   "cell_type": "code",
   "execution_count": 13,
   "metadata": {},
   "outputs": [
    {
     "data": {
      "application/vnd.jupyter.widget-view+json": {
       "model_id": "88265e56685d4ef4a3c6d0b26dec39eb"
      }
     },
     "metadata": {},
     "output_type": "display_data"
    },
    {
     "data": {
      "application/vnd.jupyter.widget-view+json": {
       "model_id": "8ce3c754b2a74bf281fda69c93945f61"
      }
     },
     "metadata": {},
     "output_type": "display_data"
    },
    {
     "data": {
      "application/vnd.jupyter.widget-view+json": {
       "model_id": "02dd2fe07f2f4493835d591de133d3a2"
      }
     },
     "metadata": {},
     "output_type": "display_data"
    },
    {
     "data": {
      "application/vnd.jupyter.widget-view+json": {
       "model_id": "adb252838bc64237b479e2dee0566fe0"
      }
     },
     "metadata": {},
     "output_type": "display_data"
    },
    {
     "data": {
      "application/vnd.jupyter.widget-view+json": {
       "model_id": "40e7f7f736e14086aec3bdc08123744c"
      }
     },
     "metadata": {},
     "output_type": "display_data"
    },
    {
     "data": {
      "application/vnd.jupyter.widget-view+json": {
       "model_id": "791766bdc39f42e9bb86f6dd7597d9cf"
      }
     },
     "metadata": {},
     "output_type": "display_data"
    },
    {
     "data": {
      "application/vnd.jupyter.widget-view+json": {
       "model_id": "85ba0e7dd5a140ae8d1849a60418df3d"
      }
     },
     "metadata": {},
     "output_type": "display_data"
    },
    {
     "data": {
      "application/vnd.jupyter.widget-view+json": {
       "model_id": "3bfb0c275cd6472d961a30ce72b5b701"
      }
     },
     "metadata": {},
     "output_type": "display_data"
    }
   ],
   "source": [
    "from IPython.display import display, clear_output\n",
    "from ipywidgets import Text, Image, Label\n",
    "from io import BytesIO\n",
    "\n",
    "import matplotlib\n",
    "import numpy as np\n",
    "import matplotlib.pyplot as plt\n",
    "\n",
    "directions_left  = Text(\"Left joystick: amplitude, frequency\")\n",
    "directions_right = Text(\"Right joystick: horizontal, vertical shift\")\n",
    "\n",
    "a0 = Text(\"Period\")\n",
    "a1 = Text(\"Amplitude\")\n",
    "a2 = Text(\"Horizontal Shift\")\n",
    "a3 = Text(\"Vertical Shift\")\n",
    "equation = Label(value='$e=mc^2$')\n",
    "eq_string = r\"${0:.2f} sin(2\\pi({1:.2f})(x - {2:.2f})) + {3:.2f}$\"\n",
    "p = Image()\n",
    "\n",
    "# initial values\n",
    "amplitude = 2.0\n",
    "frequency = 1.0\n",
    "horizontal = 0.0\n",
    "vertical = 0.0\n",
    "\n",
    "def reaction():\n",
    "    global amplitude, frequency, horizontal, vertical\n",
    "    \n",
    "    sensitivity = 0.15\n",
    "    \n",
    "    if pad.connected:\n",
    "        frequency  +=  sensitivity * pad.axes[0].value\n",
    "        amplitude  += -sensitivity * pad.axes[1].value\n",
    "        horizontal +=  sensitivity * pad.axes[2].value\n",
    "        vertical   += -sensitivity * pad.axes[3].value\n",
    "    \n",
    "    if frequency < 0.0:\n",
    "        frequency = 0.0\n",
    "        \n",
    "    if amplitude < 0.0:\n",
    "        amplitude = 0.0\n",
    "        \n",
    "    a0.value = \"Frequency: \" + str(frequency)\n",
    "    a1.value = \"Amplitude: \" + str(amplitude)\n",
    "    a2.value = \"Horizontal Shift: \" + str(horizontal)\n",
    "    a3.value = \"Vertical Shift: \" + str(vertical)\n",
    "    equation.value = eq_string.format(amplitude, frequency, horizontal, vertical)\n",
    "    \n",
    "    x = np.linspace(-8, 8, 500)\n",
    "    plt.xlim(-8, 8)\n",
    "    plt.ylim(-4, 4)\n",
    "    plt.plot(x, amplitude * np.sin(2*np.pi*frequency*(x-horizontal)) + vertical)\n",
    "    \n",
    "    # plot relative origin\n",
    "    plt.plot([horizontal],[vertical], 'or')\n",
    "\n",
    "    sio = BytesIO()\n",
    "    plt.savefig(sio, format=\"png\")\n",
    "    thebytes = sio.getvalue()\n",
    "    p.value = thebytes\n",
    "    \n",
    "    plt.close()\n",
    "    \n",
    "pad.observe(reaction)\n",
    "\n",
    "display(directions_left)\n",
    "display(directions_right)\n",
    "display(a0)\n",
    "display(a1)\n",
    "display(a2)\n",
    "display(a3)\n",
    "display(equation)\n",
    "\n",
    "reaction()\n",
    "display(p)"
   ]
  },
  {
   "cell_type": "code",
   "execution_count": null,
   "metadata": {
    "collapsed": true
   },
   "outputs": [],
   "source": []
  },
  {
   "cell_type": "code",
   "execution_count": null,
   "metadata": {
    "collapsed": true
   },
   "outputs": [],
   "source": []
  }
 ],
 "metadata": {
  "kernelspec": {
   "display_name": "Python 3",
   "language": "python",
   "name": "python3"
  },
  "language_info": {
   "codemirror_mode": {
    "name": "ipython",
    "version": 3
   },
   "file_extension": ".py",
   "mimetype": "text/x-python",
   "name": "python",
   "nbconvert_exporter": "python",
   "pygments_lexer": "ipython3",
   "version": "3.6.0"
  }
 },
 "nbformat": 4,
 "nbformat_minor": 1
}
