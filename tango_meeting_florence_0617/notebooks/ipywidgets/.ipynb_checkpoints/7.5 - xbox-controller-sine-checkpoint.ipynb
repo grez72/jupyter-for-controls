{
 "cells": [
  {
   "cell_type": "code",
   "execution_count": 1,
   "metadata": {},
   "outputs": [
    {
     "data": {
      "application/vnd.jupyter.widget-view+json": {
       "model_id": "3865f672be1948f79c42aa8e2a7fa79b"
      }
     },
     "metadata": {},
     "output_type": "display_data"
    }
   ],
   "source": [
    "from ipywidgets import Controller\n",
    "pad = Controller()\n",
    "pad"
   ]
  },
  {
   "cell_type": "code",
   "execution_count": 4,
   "metadata": {},
   "outputs": [
    {
     "name": "stderr",
     "output_type": "stream",
     "text": [
      "/Users/nicolas/mystuffs/anaconda/miniconda3/lib/python3.6/site-packages/ipykernel/__main__.py:62: DeprecationWarning: on_trait_change is deprecated in traitlets 4.1: use observe instead\n"
     ]
    },
    {
     "data": {
      "application/vnd.jupyter.widget-view+json": {
       "model_id": "fad0ad6dadec405ea730bf61961fe3e0"
      }
     },
     "metadata": {},
     "output_type": "display_data"
    },
    {
     "data": {
      "application/vnd.jupyter.widget-view+json": {
       "model_id": "668c5abd4afd4f5982ff39f5732d4e5d"
      }
     },
     "metadata": {},
     "output_type": "display_data"
    },
    {
     "data": {
      "application/vnd.jupyter.widget-view+json": {
       "model_id": "a7ad73b02e3646ffb7b821edf93610c6"
      }
     },
     "metadata": {},
     "output_type": "display_data"
    },
    {
     "data": {
      "application/vnd.jupyter.widget-view+json": {
       "model_id": "865009d0f38c45daa53f4984c0a5fef5"
      }
     },
     "metadata": {},
     "output_type": "display_data"
    },
    {
     "data": {
      "application/vnd.jupyter.widget-view+json": {
       "model_id": "7ca96d57e1ed48a99386ec3ce87f2d01"
      }
     },
     "metadata": {},
     "output_type": "display_data"
    },
    {
     "data": {
      "application/vnd.jupyter.widget-view+json": {
       "model_id": "af1d8042a95240a2bca97ad0a390061f"
      }
     },
     "metadata": {},
     "output_type": "display_data"
    },
    {
     "data": {
      "text/plain": [
       "'Equation'"
      ]
     },
     "metadata": {},
     "output_type": "display_data"
    },
    {
     "data": {
      "application/vnd.jupyter.widget-view+json": {
       "model_id": "fb36e4299eba4109988cfc97eb5f1501"
      }
     },
     "metadata": {},
     "output_type": "display_data"
    }
   ],
   "source": [
    "from IPython.display import display, clear_output\n",
    "from ipywidgets import Text, Latex, Image\n",
    "from io import BytesIO\n",
    "\n",
    "import matplotlib\n",
    "import numpy as np\n",
    "import matplotlib.pyplot as plt\n",
    "\n",
    "directions_left  = Text(\"Left joystick: amplitude, frequency\")\n",
    "directions_right = Text(\"Right joystick: horizontal, vertical shift\")\n",
    "\n",
    "a0 = Text(\"Period\")\n",
    "a1 = Text(\"Amplitude\")\n",
    "a2 = Text(\"Horizontal Shift\")\n",
    "a3 = Text(\"Vertical Shift\")\n",
    "equation = Latex(\"Equation\")\n",
    "eq_string = r\"${0:.2f}\\sin\\left(2\\pi({1:.2f})(x - {2:.2f})\\right) + {3:.2f}$\"\n",
    "p = Image()\n",
    "\n",
    "# initial values\n",
    "amplitude = 2.0\n",
    "frequency = 1.0\n",
    "horizontal = 0.0\n",
    "vertical = 0.0\n",
    "\n",
    "def reaction():\n",
    "    global amplitude, frequency, horizontal, vertical\n",
    "    \n",
    "    sensitivity = 0.15\n",
    "    frequency  +=  sensitivity*pad.axes[0].value\n",
    "    amplitude  += -sensitivity*pad.axes[1].value\n",
    "    horizontal +=  sensitivity*pad.axes[2].value\n",
    "    vertical   += -sensitivity*pad.axes[3].value\n",
    "    \n",
    "    if frequency < 0.0:\n",
    "        frequency = 0.0\n",
    "        \n",
    "    if amplitude < 0.0:\n",
    "        amplitude = 0.0\n",
    "        \n",
    "    a0.value = \"Frequency: \" + str(frequency)\n",
    "    a1.value = \"Amplitude: \" + str(amplitude)\n",
    "    a2.value = \"Horizontal Shift: \" + str(horizontal)\n",
    "    a3.value = \"Vertical Shift: \" + str(vertical)\n",
    "    equation.value = eq_string.format(amplitude, frequency, horizontal, vertical)\n",
    "    \n",
    "    x = np.linspace(-8, 8, 500)\n",
    "    plt.xlim(-8, 8)\n",
    "    plt.ylim(-4,4)\n",
    "    plt.plot(x, amplitude*np.sin(2*np.pi*frequency*(x-horizontal)) + vertical)\n",
    "    \n",
    "    # plot relative origin\n",
    "    plt.plot([horizontal],[vertical], 'or')\n",
    "\n",
    "    sio = BytesIO()\n",
    "    plt.savefig(sio, format=\"png\")\n",
    "    thebytes = sio.getvalue()\n",
    "    p.value = thebytes\n",
    "    \n",
    "    plt.close()\n",
    "    \n",
    "pad.on_trait_change(reaction)\n",
    "\n",
    "display(directions_left)\n",
    "display(directions_right)\n",
    "display(a0)\n",
    "display(a1)\n",
    "display(a2)\n",
    "display(a3)\n",
    "display(equation)\n",
    "\n",
    "display(p)"
   ]
  },
  {
   "cell_type": "code",
   "execution_count": null,
   "metadata": {
    "collapsed": true
   },
   "outputs": [],
   "source": []
  }
 ],
 "metadata": {
  "kernelspec": {
   "display_name": "Python 3",
   "language": "python",
   "name": "python3"
  },
  "language_info": {
   "codemirror_mode": {
    "name": "ipython",
    "version": 3
   },
   "file_extension": ".py",
   "mimetype": "text/x-python",
   "name": "python",
   "nbconvert_exporter": "python",
   "pygments_lexer": "ipython3",
   "version": "3.6.0"
  }
 },
 "nbformat": 4,
 "nbformat_minor": 1
}
