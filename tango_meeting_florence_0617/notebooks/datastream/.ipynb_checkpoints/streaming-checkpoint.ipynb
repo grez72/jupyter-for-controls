{
 "cells": [
  {
   "cell_type": "code",
   "execution_count": 1,
   "metadata": {
    "collapsed": true
   },
   "outputs": [],
   "source": [
    "import threading\n",
    "import datetime\n",
    "import time\n",
    "import math\n",
    "import random\n",
    "import logging\n",
    "import copy\n",
    "from collections import deque\n",
    "import numpy as np\n",
    "from bokeh.models.ranges import Range1d\n",
    "from bokeh.palettes import Plasma256, Viridis256, Inferno256, Greys256\n",
    "from bokeh.layouts import column\n",
    "from plots import *"
   ]
  },
  {
   "cell_type": "code",
   "execution_count": 2,
   "metadata": {
    "collapsed": true
   },
   "outputs": [],
   "source": [
    "ipa='127.0.0.1'"
   ]
  },
  {
   "cell_type": "code",
   "execution_count": 3,
   "metadata": {
    "collapsed": true
   },
   "outputs": [],
   "source": [
    "logging.getLogger('tornado').setLevel(logging.CRITICAL)\n",
    "logging.getLogger('bokeh.server').setLevel(logging.CRITICAL)\n",
    "logging.getLogger('fs.client.jupyter').setLevel(logging.DEBUG)"
   ]
  },
  {
   "cell_type": "code",
   "execution_count": 4,
   "metadata": {
    "collapsed": true
   },
   "outputs": [],
   "source": [
    "#--------------------------------------------------------------------------\n",
    "class XDS(DataSource):\n",
    "    \n",
    "    def __init__(self, name, num_points=128):\n",
    "        DataSource.__init__(self, name)\n",
    "        self._l = num_points\n",
    "    \n",
    "    def pull_data(self): \n",
    "        cd = ChannelData(self.name)\n",
    "        start = random.uniform(-math.pi/2, math.pi/2)\n",
    "        end = 2 * math.pi + start\n",
    "        cd.buffer = np.linspace(start, end, self._l)\n",
    "        return cd\n",
    "        \n",
    "    def cleanup(self):\n",
    "        super(XDS, self).cleanup()\n",
    "        \n",
    "#--------------------------------------------------------------------------\n",
    "class YDS(DataSource):\n",
    "    \n",
    "    def __init__(self, name, channels=None, num_points=128):\n",
    "        DataSource.__init__(self, name)\n",
    "        self._l = num_points\n",
    "    \n",
    "    def pull_data(self): \n",
    "        cd = ChannelData(self.name)\n",
    "        p = random.uniform(-math.pi/2, math.pi/2)\n",
    "        start = 0 + p\n",
    "        end = 2 * (math.pi + p)\n",
    "        x = np.linspace(start, end, self._l)\n",
    "        d = random.uniform(1.0, 4.0) * np.sin(x)\n",
    "        cd.buffer = random.uniform(1.0, 4.0) * np.sin(x)\n",
    "        return cd\n",
    "\n",
    "    def cleanup(self):\n",
    "        super(YDS, self).cleanup() \n",
    "        \n",
    "#--------------------------------------------------------------------------\n",
    "class SCTest(SpectrumChannel):\n",
    "    \n",
    "    def __init__(self, name, data_sources=None, model_properties=None):\n",
    "        SpectrumChannel.__init__(self, name, data_sources, model_properties)\n",
    "        self._lock = threading.Lock()\n",
    "        self._selection_range = self.__initial_selection_range()\n",
    "        \n",
    "    def __initial_selection_range(self):\n",
    "        return {'x0':0, 'x1':0, 'y0':0, 'y1':0, 'width':0, 'height':0}\n",
    "    \n",
    "    def on_box_selection_change(self, selection_range):\n",
    "        with self._lock:\n",
    "            self._selection_range = selection_range\n",
    "        \n",
    "    def on_box_selection_reset(self):\n",
    "        with self._lock:\n",
    "            self._selection_range = self.__initial_selection_range()\n",
    "            \n",
    "    def cleanup(self):\n",
    "        super(SCTest, self).cleanup()"
   ]
  },
  {
   "cell_type": "code",
   "execution_count": 5,
   "metadata": {
    "collapsed": true
   },
   "outputs": [],
   "source": [
    "#--------------------------------------------------------------------------\n",
    "class XYDS(DataSource):\n",
    "    \n",
    "    def __init__(self, name):\n",
    "        DataSource.__init__(self, name)\n",
    "        self._inc = 1\n",
    "        self._current_index = 0\n",
    "        self._iw, self._ih = 1000, 1000\n",
    "        x, y = np.linspace(0, 10, self._iw), np.linspace(0, 10, self._ih)\n",
    "        xx, yy = np.meshgrid(x, y)\n",
    "        self._full_image = np.sin(xx) * np.cos(yy)\n",
    "\n",
    "    def pull_data(self):\n",
    "        cd = ChannelData(self.name)    \n",
    "        i = self._current_index\n",
    "        cd.buffer = self._full_image[0:i+1, 0:i+1]\n",
    "        self._current_index += self._inc\n",
    "        if self._current_index > self._ih:\n",
    "            self._current_index = self._ih\n",
    "            self._inc *= -1 \n",
    "        elif self._current_index < 0:\n",
    "            self._current_index = 0\n",
    "            self._inc *= -1\n",
    "        return cd\n",
    "\n",
    "    def cleanup(self):\n",
    "        super(XYDS, self).cleanup()\n",
    "    \n",
    "#--------------------------------------------------------------------------\n",
    "class ICTest(ImageChannel):\n",
    "    \n",
    "    def __init__(self, name, data_source=None, model_properties=None):\n",
    "        ImageChannel.__init__(self, name, data_source=data_source, model_properties=model_properties)\n",
    "        self._iw, self._ih = 1000, 1000\n",
    "        self._selection_range = self.__initial_selection_range()\n",
    "        self._bsm = None\n",
    "        self._lock = threading.Lock()\n",
    "\n",
    "    def __initial_selection_range(self):\n",
    "        return {'x0':0, 'x1':self._iw, 'y0':0, 'y1':self._ih, 'width':self._iw, 'height':self._ih}\n",
    "    \n",
    "    def setup_model(self, **kwargs):\n",
    "        if 'selection_manager' not in kwargs:\n",
    "            scb = self.on_box_selection_change\n",
    "            rcb = self.on_box_selection_reset\n",
    "            self._bsm = BoxSelectionManager(selection_callback=scb, reset_callback=rcb)\n",
    "            kwargs['selection_manager'] = self._bsm\n",
    "        return super(ICTest, self).setup_model(**kwargs)\n",
    "    \n",
    "    def on_box_selection_change(self, selection_range):\n",
    "        with self._lock:\n",
    "            self._selection_range = selection_range\n",
    "        \n",
    "    def on_box_selection_reset(self):\n",
    "        with self._lock:\n",
    "            self._selection_range = self.__initial_selection_range()\n",
    "        \n",
    "    def cleanup(self):\n",
    "        super(ICTest, self).cleanup()"
   ]
  },
  {
   "cell_type": "code",
   "execution_count": 6,
   "metadata": {
    "collapsed": true
   },
   "outputs": [],
   "source": [
    "def on_box_selection_change(selection_range):\n",
    "    print(\"on_box_selection_change: {}\".format(selection_range))\n",
    "\n",
    "def on_box_selection_reset(self):\n",
    "    print(\"on_box_selection_reset\")"
   ]
  },
  {
   "cell_type": "code",
   "execution_count": 7,
   "metadata": {
    "collapsed": true
   },
   "outputs": [],
   "source": [
    "def layout_model_properties():\n",
    "    lmp = dict()\n",
    "    lmp['width'] = 475\n",
    "    lmp['height'] = 250\n",
    "    lmp['layout'] = 'grid'\n",
    "    lmp['merge_tools'] = True\n",
    "    lmp['show_legend'] = False\n",
    "    #lmp['palette'] = Viridis256\n",
    "    scb = on_box_selection_change\n",
    "    rcb = on_box_selection_reset\n",
    "    lmp['selection_manager'] = BoxSelectionManager(selection_callback=scb, reset_callback=rcb)  \n",
    "    lmp['refresh_mode'] = 'one-by-one'\n",
    "    return lmp\n",
    "\n",
    "def image_model_properties(s=0, e=1000):\n",
    "    xshsp = dict()\n",
    "    xshsp['start'] = s\n",
    "    xshsp['end'] = e\n",
    "    xshsp['num_points'] = abs(e - s)\n",
    "    xshsp['label'] = 'x-axis'\n",
    "    xshsp['unit'] = 'mm'\n",
    "    yshsp = dict()\n",
    "    yshsp['start'] = s\n",
    "    yshsp['end'] = e\n",
    "    yshsp['num_points'] = abs(e - s)\n",
    "    yshsp['label'] = 'y-axis'\n",
    "    yshsp['unit'] = 'mm'\n",
    "    imp = dict()\n",
    "    imp['x_scale'] = Scale(**xshsp)\n",
    "    imp['y_scale'] = Scale(**yshsp)\n",
    "    return imp"
   ]
  },
  {
   "cell_type": "code",
   "execution_count": 12,
   "metadata": {
    "scrolled": false
   },
   "outputs": [
    {
     "name": "stdout",
     "output_type": "stream",
     "text": [
      "DEBUG:fs.client.jupyter:DataStreamer.__stop_bokeh_server.m1 <<in\n",
      "DEBUG:fs.client.jupyter:DataStreamer.__uninstall_periodic_callbacks.m1 <<in\n",
      "DEBUG:fs.client.jupyter:DataStreamer.__uninstall_periodic_callbacks.m1 out>> [took: 2.11 ms]\n",
      "DEBUG:fs.client.jupyter:DataStreamer.__clear_models.m1 <<in\n",
      "DEBUG:fs.client.jupyter:DataStreamer.__clear_models.m1 out>> [took: 3.49 ms]\n",
      "DEBUG:fs.client.jupyter:stopping Bokeh server...\n",
      "DEBUG:fs.client.jupyter:Bokeh server stopped & cleanup done\n",
      "DEBUG:fs.client.jupyter:DataStreamer.__stop_bokeh_server.m1 out>> [took: 16.62 ms]\n"
     ]
    }
   ],
   "source": [
    "# x Scale # ------------------------------------------------\n",
    "shsp = dict()\n",
    "shsp['label'] = 'angle'\n",
    "shsp['unit'] = 'rad'\n",
    "shsp['channel'] = 'x_scale'\n",
    "shsp['start'] = -1\n",
    "shsp['end'] = 1\n",
    "x_scale = Scale(**shsp)\n",
    "# y Scale # ------------------------------------------------\n",
    "spsp = dict()\n",
    "spsp['label'] = 'amplitude'\n",
    "spsp['unit'] = 'a.u.'\n",
    "y_scale = Scale(**spsp)\n",
    "# SpectrumChannel 2 ----------------------------------------\n",
    "s1 = list()\n",
    "s1.append(XDS('x_scale'))\n",
    "s1.extend([YDS(n) for n in ['y1.1', 'y1.2', 'y1.3']]) \n",
    "c1 = SCTest('c1', data_sources=s1)\n",
    "# SpectrumChannel 1 ----------------------------------------\n",
    "s2 = list()\n",
    "s2.append(XDS('x_scale'))\n",
    "s2.extend([YDS(n) for n in ['y2.1', 'y2.2', 'y2.3']]) \n",
    "c2 = SCTest('c2', data_sources=s2)\n",
    "# layout parameters  ---------------------------------------\n",
    "lmp = dict()\n",
    "lmp['width'] = 475\n",
    "lmp['height'] = 250\n",
    "lmp['layout'] = 'grid'\n",
    "lmp['merge_tools'] = True\n",
    "lmp['show_legend'] = False\n",
    "lmp['x_scale'] = x_scale\n",
    "lmp['y_scale'] = y_scale\n",
    "# LayoutChannel --------------------------------------------\n",
    "l1 = LayoutChannel('l1', channels=[c1, c2], model_properties=lmp)\n",
    "# ImageChannel 1 -------------------------------------------\n",
    "ic0 = ICTest(\"i0\", data_source=XYDS(\"is0\"), model_properties=image_model_properties(0, 1000))\n",
    "ic1 = ICTest(\"i1\", data_source=XYDS(\"is1\"), model_properties=image_model_properties(-500, 500))\n",
    "# LayoutChannel --------------------------------------------\n",
    "l2 = LayoutChannel('l2', channels=[ic0, ic1], model_properties=layout_model_properties())\n",
    "# DataStream -----------------------------------------------\n",
    "s1 = DataStream('s1', channels=[l1])\n",
    "# DataStreamer ---------------------------------------------\n",
    "m1 = DataStreamer('m1', data_streams=[s1], update_period=2., ip_addr=ipa)\n",
    "# DataStreamerController -----------------------------------\n",
    "c1 = DataStreamerController('c1', m1)\n",
    "# DataStream -----------------------------------------------\n",
    "s2 = DataStream('s2', channels=[l2])\n",
    "# DataStreamer ---------------------------------------------\n",
    "m2 = DataStreamer('m1', data_streams=[s2], update_period=2., ip_addr=ipa)\n",
    "# DataStreamerController -----------------------------------\n",
    "c2 = DataStreamerController('c2', m2)"
   ]
  },
  {
   "cell_type": "code",
   "execution_count": 11,
   "metadata": {
    "scrolled": false
   },
   "outputs": [
    {
     "data": {
      "application/vnd.jupyter.widget-view+json": {
       "model_id": "14a0c93f2e0a4ba4a222f33bb9cddbef"
      }
     },
     "metadata": {},
     "output_type": "display_data"
    },
    {
     "name": "stdout",
     "output_type": "stream",
     "text": [
      "DEBUG:fs.client.jupyter:DataStreamer.start.scm <<in\n",
      "DEBUG:fs.client.jupyter:DataStreamer.__start_bokeh_server.scm <<in\n",
      "DEBUG:fs.client.jupyter:Bokeh output already redirected to Jupyter notebook\n",
      "DEBUG:fs.client.jupyter:starting Bokeh server...\n"
     ]
    },
    {
     "data": {
      "text/html": [
       "\n",
       "<script\n",
       "    src=\"http://127.0.0.1:60021/autoload.js?bokeh-autoload-element=6668fd0b-f89c-47ab-9bb8-444137a8bb87&bokeh-app-path=/&bokeh-absolute-url=http://127.0.0.1:60021\"\n",
       "    id=\"6668fd0b-f89c-47ab-9bb8-444137a8bb87\"\n",
       "    data-bokeh-model-id=\"\"\n",
       "    data-bokeh-doc-id=\"\"\n",
       "></script>"
      ],
      "text/plain": [
       "<IPython.core.display.HTML object>"
      ]
     },
     "metadata": {},
     "output_type": "display_data"
    },
    {
     "name": "stdout",
     "output_type": "stream",
     "text": [
      "DEBUG:fs.client.jupyter:Bokeh server successfully started\n",
      "DEBUG:fs.client.jupyter:DataStreamer.__start_bokeh_server.scm out>> [took: 27.38 ms]\n",
      "DEBUG:fs.client.jupyter:DataStreamer.start.scm out>> [took: 34.13 ms]\n",
      "DEBUG:fs.client.jupyter:DataStreamer.__entry_point.scm <<in\n",
      "DEBUG:fs.client.jupyter:DataStreamer.__setup_models.scm <<in\n"
     ]
    },
    {
     "data": {
      "application/vnd.jupyter.widget-view+json": {
       "model_id": "fc0bcf4fdfc54dfc97877c62ba39615e"
      }
     },
     "metadata": {},
     "output_type": "display_data"
    },
    {
     "name": "stdout",
     "output_type": "stream",
     "text": [
      "DEBUG:fs.client.jupyter:DataStreamer.__setup_models.scm out>> [took: 12.28 ms]\n",
      "DEBUG:fs.client.jupyter:DataStreamer.__install_periodic_callbacks.scm <<in\n",
      "DEBUG:fs.client.jupyter:DataStreamer.__install_periodic_callbacks.scm out>> [took: 2.10 ms]\n",
      "DEBUG:fs.client.jupyter:DataStreamer.__entry_point.scm out>> [took: 20.00 ms]\n"
     ]
    },
    {
     "data": {
      "application/vnd.jupyter.widget-view+json": {
       "model_id": "c93f92925354423e99823f76d80951f0"
      }
     },
     "metadata": {},
     "output_type": "display_data"
    },
    {
     "data": {
      "application/vnd.jupyter.widget-view+json": {
       "model_id": "b27b2e3c76f542f6a3fff2d6092362ab"
      }
     },
     "metadata": {},
     "output_type": "display_data"
    },
    {
     "data": {
      "application/vnd.jupyter.widget-view+json": {
       "model_id": "8e07e5a7450b4cababd33f7f3452da6a"
      }
     },
     "metadata": {},
     "output_type": "display_data"
    },
    {
     "data": {
      "application/vnd.jupyter.widget-view+json": {
       "model_id": "3f055775643445fa9ef9f3e6d7c22d2f"
      }
     },
     "metadata": {},
     "output_type": "display_data"
    },
    {
     "data": {
      "application/vnd.jupyter.widget-view+json": {
       "model_id": "f5810a5799194aaa80d267b8f60eb8f6"
      }
     },
     "metadata": {},
     "output_type": "display_data"
    },
    {
     "data": {
      "application/vnd.jupyter.widget-view+json": {
       "model_id": "15d78c13cc8f42a2b2c4ee3e7876dcbe"
      }
     },
     "metadata": {},
     "output_type": "display_data"
    },
    {
     "data": {
      "application/vnd.jupyter.widget-view+json": {
       "model_id": "d53cfa1ab6274dcb97012aaea0dcef99"
      }
     },
     "metadata": {},
     "output_type": "display_data"
    },
    {
     "data": {
      "application/vnd.jupyter.widget-view+json": {
       "model_id": "c2dc29f3278f4d4ea0854147028d5178"
      }
     },
     "metadata": {},
     "output_type": "display_data"
    },
    {
     "data": {
      "application/vnd.jupyter.widget-view+json": {
       "model_id": "ee04e182fd8a47269144b88dd77f8704"
      }
     },
     "metadata": {},
     "output_type": "display_data"
    },
    {
     "data": {
      "application/vnd.jupyter.widget-view+json": {
       "model_id": "d5b67685abaa4b819ec5a72ec1a98acb"
      }
     },
     "metadata": {},
     "output_type": "display_data"
    },
    {
     "data": {
      "application/vnd.jupyter.widget-view+json": {
       "model_id": "8e46ce7a16974c098c6dc03dd66a7252"
      }
     },
     "metadata": {},
     "output_type": "display_data"
    },
    {
     "data": {
      "application/vnd.jupyter.widget-view+json": {
       "model_id": "d788a045cea149928e263ad73e42fa39"
      }
     },
     "metadata": {},
     "output_type": "display_data"
    },
    {
     "data": {
      "application/vnd.jupyter.widget-view+json": {
       "model_id": "5eb2eee8713a4e0b9ad83c1239244e40"
      }
     },
     "metadata": {},
     "output_type": "display_data"
    }
   ],
   "source": [
    "# ------------------------------------------------------------------------------\n",
    "class RingBuffer(np.ndarray):\n",
    "    \"\"\"\n",
    "    a multidimensional ring buffer\n",
    "    https://gist.github.com/mtambos/aa435461084b5c0025d1\n",
    "    \"\"\"\n",
    "\n",
    "    def __new__(cls, input_array):\n",
    "        obj = np.asarray(input_array).view(cls)\n",
    "        return obj\n",
    "\n",
    "    def __array_finalize__(self, obj):\n",
    "        if obj is None: return\n",
    "\n",
    "    def __array_wrap__(self, out_arr, context=None):\n",
    "        return np.ndarray.__array_wrap__(self, out_arr, context)\n",
    "\n",
    "    def append(self, x):\n",
    "        \"\"\"adds element x to the ring buffer\"\"\"\n",
    "        self[:-1] = self[1:]\n",
    "        self[-1] = x\n",
    "        \n",
    "#--------------------------------------------------------------------------\n",
    "class TSDS(DataSource):\n",
    "    \n",
    "    def __init__(self, name, num_points=1024):\n",
    "        DataSource.__init__(self, name)\n",
    "        array = np.empty((num_points,))\n",
    "        array.fill(np.nan)\n",
    "        self._data_buffer = RingBuffer(array)\n",
    "        array = np.empty((num_points,), dtype=float)\n",
    "        array.fill(np.nan)\n",
    "        self._time_buffer = RingBuffer(array)\n",
    "        self._cnt = -1\n",
    "                \n",
    "    def pull_data(self): \n",
    "        self._cnt += 1\n",
    "        y = self._cnt % 32\n",
    "        val = ChannelData()\n",
    "        if 0 <= self._cnt <= 16:\n",
    "            val.set_error(err=\"error handling test\", exc=None)\n",
    "        else:\n",
    "            self._time_buffer.append( time.time() * 1000. )\n",
    "            self._data_buffer.append( y )\n",
    "            val.set_data(\n",
    "                data_buffer=self._data_buffer, \n",
    "                time_buffer=self._time_buffer,\n",
    "                format=ChannelData.Format.SCALAR\n",
    "            )\n",
    "        self._cnt = 0 if y == 0 else self._cnt\n",
    "        return val\n",
    "    \n",
    "    def cleanup(self):\n",
    "        super(TSDS, self).cleanup()\n",
    "  \n",
    "#--------------------------------------------------------------------------\n",
    "sch = GenericChannel('sch', data_source=TSDS('tsds'))\n",
    "scd = DataStream('scd', channels=[sch])\n",
    "scm = DataStreamer('scm', data_streams=[scd], update_period=0.5, ip_addr=ipa)\n",
    "scr = DataStreamerController('scr', scm)"
   ]
  },
  {
   "cell_type": "code",
   "execution_count": null,
   "metadata": {
    "collapsed": true
   },
   "outputs": [],
   "source": []
  }
 ],
 "metadata": {
  "anaconda-cloud": {},
  "kernelspec": {
   "display_name": "Python 3",
   "language": "python",
   "name": "python3"
  },
  "language_info": {
   "codemirror_mode": {
    "name": "ipython",
    "version": 3
   },
   "file_extension": ".py",
   "mimetype": "text/x-python",
   "name": "python",
   "nbconvert_exporter": "python",
   "pygments_lexer": "ipython3",
   "version": "3.6.0"
  },
  "widgets": {
   "state": {
    "18252868359644188c5d35181279de02": {
     "views": [
      {
       "cell_index": 7
      }
     ]
    },
    "1c757d72e00c446aad9eb921446ecfac": {
     "views": [
      {
       "cell_index": 8
      }
     ]
    },
    "efc06b4082064aa8b99bb9b7ddb8538b": {
     "views": [
      {
       "cell_index": 6
      }
     ]
    }
   },
   "version": "1.2.0"
  }
 },
 "nbformat": 4,
 "nbformat_minor": 1
}
