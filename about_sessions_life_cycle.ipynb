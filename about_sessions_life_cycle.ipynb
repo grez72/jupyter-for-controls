{
 "cells": [
  {
   "cell_type": "markdown",
   "metadata": {},
   "source": [
    "# Embedded bokeh server: about sessions life cycle management"
   ]
  },
  {
   "cell_type": "code",
   "execution_count": null,
   "metadata": {
    "collapsed": true
   },
   "outputs": [],
   "source": [
    "from __future__ import print_function\n",
    "from collections import deque\n",
    "from math import ceil, pi\n",
    "import socket\n",
    "import six\n",
    "import ipywidgets as widgets\n",
    "import numpy as np\n",
    "from IPython.display import HTML, clear_output\n",
    "from tornado.ioloop import IOLoop\n",
    "from bokeh.application import Application\n",
    "from bokeh.application.handlers import Handler, FunctionHandler\n",
    "from bokeh.embed import autoload_server\n",
    "from bokeh.io import output_notebook, reset_output\n",
    "from bokeh.layouts import row, column, layout, gridplot, widgetbox\n",
    "from bokeh.models import ColumnDataSource, CustomJS\n",
    "from bokeh.models.glyphs import Rect\n",
    "from bokeh.plotting import figure\n",
    "from bokeh.plotting.figure import Figure\n",
    "from bokeh.server.server import Server"
   ]
  },
  {
   "cell_type": "code",
   "execution_count": null,
   "metadata": {},
   "outputs": [],
   "source": [
    "output_notebook()"
   ]
  },
  {
   "cell_type": "markdown",
   "metadata": {},
   "source": [
    "### BokehSessionHandler class\n",
    "See 'Lifecycle' in [bokeh server architecture](http://bokeh.pydata.org/en/latest/docs/dev_guide/server.html#devguide-server).\n",
    "Not really used so far but might be useful in the future."
   ]
  },
  {
   "cell_type": "code",
   "execution_count": null,
   "metadata": {
    "collapsed": true
   },
   "outputs": [],
   "source": [
    "class BokehSessionHandler(Handler):\n",
    "\n",
    "    def on_server_loaded(self, server_context):\n",
    "        print(\"SessionHandler: on_server_loaded <<\")\n",
    "        print(\"SessionHandler: on_server_loaded >>\")\n",
    "\n",
    "    def on_server_unloaded(self, server_context):\n",
    "        print(\"SessionHandler: on_server_unloaded <<\")\n",
    "        print(\"SessionHandler: on_server_unloaded >>\")\n",
    "\n",
    "    def on_session_created(self, session_context):\n",
    "        print(\"SessionHandler: on_session_created <<\")\n",
    "        BokehServer.print_info(True)\n",
    "        print(\"SessionHandler: on_session_created >>\")\n",
    "\n",
    "    def on_session_destroyed(self, session_context):\n",
    "        print(\"SessionHandler: on_server_unloaded <<\")\n",
    "        print(\"SessionHandler: on_server_unloaded >>\")\n"
   ]
  },
  {
   "cell_type": "markdown",
   "metadata": {},
   "source": [
    "### BokehSession class\n",
    "Basically, each bokeh session 'serves' a `BokehSession`. This is a super class that could be extend in the future.\n",
    "\n",
    "See `BokehServer.serve`."
   ]
  },
  {
   "cell_type": "code",
   "execution_count": null,
   "metadata": {
    "collapsed": true
   },
   "outputs": [],
   "source": [
    "class BokehSession(object):\n",
    "    \n",
    "    def __init__(self):\n",
    "        \"\"\"the associated bokeh document\"\"\"\n",
    "        self._doc = None\n",
    "        \"\"\"periodic callback period in seconds - defaults to None (i.e. callback disabled)\"\"\"\n",
    "        self._period = None\n",
    "        \n",
    "    def setup_model(self):\n",
    "        \"\"\"return the session model or None is no model\"\"\"\n",
    "        return None\n",
    "\n",
    "    def periodic_callback(self):\n",
    "        \"\"\"return the periodic callback or None is no periodic activity\"\"\"\n",
    "        return None\n",
    "    \n",
    "    def callback_period(self):\n",
    "        \"\"\"return the (periodic) callback period in seconds\"\"\"\n",
    "        return self._period\n",
    "    "
   ]
  },
  {
   "cell_type": "markdown",
   "metadata": {},
   "source": [
    "### BokehServer class\n",
    "Embbded bokeh server singleton. \n",
    "Usage: simply call `BokehServer.open_session` passing a properly filled `BokehSessionForm`."
   ]
  },
  {
   "cell_type": "code",
   "execution_count": null,
   "metadata": {
    "collapsed": true
   },
   "outputs": [],
   "source": [
    "class BokehServer(object):\n",
    "\n",
    "    __bkh_app__ = None\n",
    "    __bkh_srv__ = None\n",
    "    __srv_url__ = None\n",
    "    __sessions__ = deque()\n",
    "        \n",
    "    @staticmethod\n",
    "    def __start_server():\n",
    "        app = Application(FunctionHandler(BokehServer.__entry_point))\n",
    "        app.add(BokehSessionHandler())\n",
    "        srv = Server(\n",
    "            {'/': app},\n",
    "            io_loop=IOLoop.instance(),\n",
    "            port=0,\n",
    "            host='*',\n",
    "            allow_websocket_origin=['*']\n",
    "        )\n",
    "        srv.start()\n",
    "        srv_addr = srv.address if srv.address else socket.gethostbyname(socket.gethostname())\n",
    "        BokehServer.__bkh_srv__ = srv\n",
    "        BokehServer.__bkh_app__ = app\n",
    "        BokehServer.__srv_url__ = 'http://{}:{}'.format(srv_addr, srv.port)\n",
    "        \n",
    "    @staticmethod\n",
    "    def __entry_point(doc):\n",
    "        try:\n",
    "            #TODO: should we locked BokehServer.__callbacks__?\n",
    "            session = BokehServer.__sessions__.pop()\n",
    "            session._doc = doc\n",
    "            model = session.setup_model()\n",
    "            if model:\n",
    "                doc.add_root(model)\n",
    "            BokehServer.__add_periodic_callback(session)\n",
    "        except Exception as e:\n",
    "            print(e)\n",
    "        \n",
    "    @staticmethod\n",
    "    def __add_periodic_callback(session):\n",
    "        assert(isinstance(session, BokehSession))\n",
    "        pcb = session.periodic_callback\n",
    "        try:\n",
    "            session._doc.remove_periodic_callback(pcb)\n",
    "        except:\n",
    "            pass\n",
    "        prd = session.callback_period()\n",
    "        if prd is not None:\n",
    "            session._doc.add_periodic_callback(pcb, max(250, 1000. * prd))\n",
    "        \n",
    "    @staticmethod\n",
    "    def open_session(new_session):\n",
    "        assert(isinstance(new_session, BokehSession))\n",
    "        if not BokehServer.__bkh_srv__:\n",
    "            BokehServer.__start_server()\n",
    "        BokehServer.__sessions__.appendleft(new_session)\n",
    "        script = autoload_server(model=None, url=BokehServer.__srv_url__)\n",
    "        html_display = HTML(script)\n",
    "        display(html_display)\n",
    "        \n",
    "    @staticmethod\n",
    "    def close_session(session):\n",
    "        assert(isinstance(session, BokehSession))\n",
    "        session_id = session._doc.session_context.id\n",
    "        print(\"trying to destroy session '{}'\".format(session_id))\n",
    "        session = BokehServer.__bkh_srv__.get_session('/', session_id)\n",
    "        session.destroy()\n",
    "        print(\"session '{}' successfully destroyed\".format(session_id))\n",
    "        \n",
    "    @staticmethod\n",
    "    def update_callback_period(session):\n",
    "        assert(isinstance(session, BokehSession))\n",
    "        BokehServer.__add_periodic_callback(session)\n",
    "        \n",
    "    @staticmethod\n",
    "    def print_info(called_from_session_handler=False):\n",
    "        if not BokehServer.__bkh_srv__:\n",
    "            print(\"no Bokeh server running\") \n",
    "            return\n",
    "        try:\n",
    "            print(\"Bokeh server URL: {}\".format(BokehServer.__srv_url__))\n",
    "            sessions = BokehServer.__bkh_srv__.get_sessions()\n",
    "            num_sessions = len(sessions)\n",
    "            if called_from_session_handler:\n",
    "                num_sessions += 1\n",
    "            print(\"Number of opened sessions: {}\".format(num_sessions))\n",
    "        except Exception as e:\n",
    "            print(e)"
   ]
  },
  {
   "cell_type": "markdown",
   "metadata": {},
   "source": [
    "### MySession class\n",
    "A user specialization of `BokehSession`. Actual/concrete/... session implementation."
   ]
  },
  {
   "cell_type": "code",
   "execution_count": null,
   "metadata": {
    "collapsed": true
   },
   "outputs": [],
   "source": [
    "from bokeh.models.widgets import Slider\n",
    "\n",
    "class MySession(BokehSession):\n",
    "    \n",
    "    def __init__(self):\n",
    "        BokehSession.__init__(self)\n",
    "        self._period = 1.\n",
    "        self._np = 100\n",
    "        self._widgets_layout = None\n",
    "        columns = dict()\n",
    "        columns['x'] = self._gen_x_scale()\n",
    "        columns['y'] = self._gen_random_data()\n",
    "        self._cds = ColumnDataSource(data=columns)\n",
    "\n",
    "    def _gen_x_scale(self):\n",
    "        return np.linspace(1, self._np, num=self._np, endpoint=True)\n",
    "    \n",
    "    def _gen_random_data(self):\n",
    "        return np.random.rand(self._np)\n",
    "    \n",
    "    def __on_refresh_period_change(self, attr, old, new):\n",
    "        self._period = new\n",
    "        BokehServer.update_callback_period(self)\n",
    "        \n",
    "    def __on_num_points_change(self, attr, old, new):\n",
    "        self._np = int(new)\n",
    "\n",
    "    def setup_model(self):\n",
    "        rrs = Slider(start=0.25, end=2, value=self._period, step=0.25, title=\"Refresh period [s]\")\n",
    "        rrs.on_change(\"value\", self.__on_refresh_period_change)\n",
    "        nps = Slider(start=0, end=1000, value=self._np, step=10, title=\"Num. points\")\n",
    "        nps.on_change(\"value\", self.__on_num_points_change)\n",
    "        p = figure(plot_width=650, plot_height=200)\n",
    "        p.toolbar_location = 'above'\n",
    "        p.line(x='x', y='y', source=self._cds, color=\"navy\", alpha=0.5)\n",
    "        self._widgets_layout = widgetbox(nps, rrs)\n",
    "        return layout([[self._widgets_layout, p]])\n",
    "    \n",
    "    def periodic_callback(self):\n",
    "        self._cds.data.update(x=self._gen_x_scale(), y=self._gen_random_data())"
   ]
  },
  {
   "cell_type": "markdown",
   "metadata": {},
   "source": [
    "### SC1: let's open a first session..."
   ]
  },
  {
   "cell_type": "code",
   "execution_count": null,
   "metadata": {},
   "outputs": [],
   "source": [
    "s1 = MySession()\n",
    "BokehServer.open_session(s1)"
   ]
  },
  {
   "cell_type": "markdown",
   "metadata": {},
   "source": [
    "### SC2: open a second session..."
   ]
  },
  {
   "cell_type": "code",
   "execution_count": null,
   "metadata": {},
   "outputs": [],
   "source": [
    "s2 = MySession()\n",
    "BokehServer.open_session(s2)"
   ]
  },
  {
   "cell_type": "markdown",
   "metadata": {},
   "source": [
    "### What if we re-execute SC1 and/or SC2?\n",
    "We now have two running sessions and everything works properly. However, what if we re-execute SC1 or SC2?\n",
    "\n",
    "Please, do so and see how many running sessions we have..."
   ]
  },
  {
   "cell_type": "code",
   "execution_count": null,
   "metadata": {},
   "outputs": [],
   "source": [
    "BokehServer.print_info()"
   ]
  },
  {
   "cell_type": "markdown",
   "metadata": {},
   "source": [
    "We now have 3 sessions running! It means that **re-executing the cell doesn't magically cleanup the previous session**. The same apply we if `clear` the cell output (see `Cell` menu > `Current Outputs` > `Clear`). \n",
    "\n",
    "The bad new is that things will clearly divergence after a few tens CS1 (and/or CS2) re-execution cause the zombies sessions continue to run in the background - generating some CPU load and memory leaks. \n",
    "\n",
    "So, the big question is: **is there a way to deal with this? a mechanism providing a way to properly cleanup a session when the cell to which it's attached is re-executed or cleared?**  "
   ]
  },
  {
   "cell_type": "markdown",
   "metadata": {
    "collapsed": true
   },
   "source": [
    "### Discussion\n",
    "\n",
    "#### The Jupyter Notebook part of the problem\n",
    "So far, the Notebook doesn't provide any notification mechanism that could help in our case [1]. There's no way to attach an action callback and some user data to a cell. We could imagine something like:\n",
    "1. attach `my_cleanup_callback` to the _current cell_ for the `execute` and the `clear` actions\n",
    "2. pass `my_internal_scheming_data` as an argument when `my_cleanup_callback` is triggered\n",
    "\n",
    "With such a mechanism we could easily retrieve the cell content and properly release the associated resources.\n",
    "There's certainly a smarter/more adapted/... solution but that's the idea. \n",
    "\n",
    "In our case, one could argue that adding a `close` button to model generated by `MySession.setup_model` could partially solve the problem. That's true as far as the user use this button to close the cell before re-executing it. IHMO, that's ugly and error prone. The `MyExtendedSession` class adds a close button in order to be able to work on the bokeh part of the problem (see below).  \n",
    "\n",
    "#### The bokeh part of the problem\n",
    "Let's pretend we have a way to be notified when it's time to cleanup our session(s). Ok, but, how to we properly cleanup a session? I'm afraid that, so far [2], there's none! Or I totally missed something.\n",
    "\n",
    "In a [previous implementation](https://github.com/nleclercq/jupyter-for-controls/tree/master/bokeh-data-streaming-for-notebook), I'm using a _\"one server per session per model\"_ approach - i.e. a bokeh server is instanciated to serve a particular cell. With this design + a `close` button, it was easy to cleanup everything by destroying the server instance so that it's properly garbage-collected. Unfortunately, things seem to properly cleanup on python side but not on BokehJS (i.e. browser side). \n",
    " \n",
    "- [1] Jupyter Notebook <= 5.0.0\n",
    "- [2] Bokeh <= 0.12.6 "
   ]
  },
  {
   "cell_type": "markdown",
   "metadata": {},
   "source": [
    "### MyExtendedSession class"
   ]
  },
  {
   "cell_type": "code",
   "execution_count": null,
   "metadata": {},
   "outputs": [],
   "source": [
    "from bokeh.models.widgets import Button\n",
    "\n",
    "class MyExtendedSession(MySession):\n",
    "    \n",
    "    def __init__(self):\n",
    "        MySession.__init__(self)\n",
    "\n",
    "    def setup_model(self):\n",
    "        model = super(MyExtendedSession, self).setup_model()\n",
    "        b = Button(label='close')\n",
    "        b.on_click(self.__on_close_clicked)\n",
    "        self._widgets_layout.children.append(b)\n",
    "        return model\n",
    "    \n",
    "    def periodic_callback(self):\n",
    "        print('MyExtendedSession.periodic_callback <<')\n",
    "        super(MyExtendedSession, self).periodic_callback()\n",
    "        print('MyExtendedSession.periodic_callback >>')\n",
    "        \n",
    "    def __on_close_clicked(self):\n",
    "        self.cleanup()\n",
    "   \n",
    "    def cleanup(self):  \n",
    "        \"\"\"try to cleanup everything properly\"\"\"\n",
    "        try:\n",
    "            # clear document content (i.e. remove roots)\n",
    "            self._doc.clear()\n",
    "        except Exception as e:\n",
    "            self.exception(e)\n",
    "        try:\n",
    "            reset_output()\n",
    "        except Exception as e:\n",
    "            self.exception(e)\n",
    "        try:  \n",
    "            BokehServer.close_session(self)\n",
    "        except Exception as e:\n",
    "            self.exception(e) \n",
    "        clear_output()"
   ]
  },
  {
   "cell_type": "code",
   "execution_count": null,
   "metadata": {},
   "outputs": [],
   "source": [
    "s3 = MyExtendedSession()\n",
    "BokehServer.open_session(s3)"
   ]
  },
  {
   "cell_type": "code",
   "execution_count": null,
   "metadata": {},
   "outputs": [],
   "source": [
    "BokehServer.print_info()"
   ]
  }
 ],
 "metadata": {
  "kernelspec": {
   "display_name": "Python 3",
   "language": "python",
   "name": "python3"
  },
  "language_info": {
   "codemirror_mode": {
    "name": "ipython",
    "version": 3
   },
   "file_extension": ".py",
   "mimetype": "text/x-python",
   "name": "python",
   "nbconvert_exporter": "python",
   "pygments_lexer": "ipython3",
   "version": "3.6.0"
  }
 },
 "nbformat": 4,
 "nbformat_minor": 2
}
