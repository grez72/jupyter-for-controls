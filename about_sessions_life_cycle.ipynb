{
 "cells": [
  {
   "cell_type": "markdown",
   "metadata": {},
   "source": [
    "### A notebook evaluating a possible implementation for _live Boheh plots in a notebook cell_"
   ]
  },
  {
   "cell_type": "code",
   "execution_count": null,
   "metadata": {},
   "outputs": [],
   "source": [
    "from __future__ import print_function\n",
    "from collections import deque\n",
    "from math import ceil, pi\n",
    "import socket\n",
    "import six\n",
    "import ipywidgets as widgets\n",
    "import numpy as np\n",
    "from IPython.display import HTML\n",
    "from tornado.ioloop import IOLoop\n",
    "from bokeh.application import Application\n",
    "from bokeh.application.handlers import FunctionHandler\n",
    "from bokeh.embed import autoload_server\n",
    "from bokeh.io import output_notebook, reset_output\n",
    "from bokeh.layouts import row, column, layout, gridplot\n",
    "from bokeh.models import ColumnDataSource, CustomJS\n",
    "from bokeh.models.glyphs import Rect\n",
    "from bokeh.plotting import figure\n",
    "from bokeh.plotting.figure import Figure\n",
    "from bokeh.server.server import Server"
   ]
  },
  {
   "cell_type": "code",
   "execution_count": null,
   "metadata": {},
   "outputs": [],
   "source": [
    "output_notebook()"
   ]
  },
  {
   "cell_type": "code",
   "execution_count": null,
   "metadata": {},
   "outputs": [],
   "source": [
    "class EmbeddedBokehServer(object):\n",
    "\n",
    "    __bkh_app__ = None\n",
    "    __bkh_srv__ = None\n",
    "    __srv_url__ = None\n",
    "    __callbacks__ = deque()\n",
    "\n",
    "    @staticmethod\n",
    "    def print_info():\n",
    "        try:\n",
    "            print(\"Bokeh server URL: {}\".format(EmbeddedBokehServer.__srv_url__))\n",
    "            sessions = EmbeddedBokehServer.__bkh_srv__.get_sessions()\n",
    "            print(\"Number of opened sessions: {}\".format(len(sessions)))\n",
    "        except:\n",
    "            pass\n",
    "        \n",
    "    @staticmethod\n",
    "    def __start_server():\n",
    "        app = Application(FunctionHandler(EmbeddedBokehServer.__entry_point))\n",
    "        srv = Server(\n",
    "            {'/': app},\n",
    "            io_loop=IOLoop.instance(),\n",
    "            port=0,\n",
    "            host='*',\n",
    "            allow_websocket_origin=['*']\n",
    "        )\n",
    "        srv.start()\n",
    "        srv_addr = srv.address if srv.address else socket.gethostbyname(socket.gethostname())\n",
    "        EmbeddedBokehServer.__bkh_srv__ = srv\n",
    "        EmbeddedBokehServer.__bkh_app__ = app\n",
    "        EmbeddedBokehServer.__srv_url__ = 'http://{}:{}'.format(srv_addr, srv.port)\n",
    "        \n",
    "    @staticmethod\n",
    "    def __entry_point(doc):\n",
    "        try:\n",
    "            #TODO: should we locked EmbeddedBokehServer.__callbacks__?\n",
    "            callback = EmbeddedBokehServer.__callbacks__.pop()\n",
    "            model = callback(doc)\n",
    "            doc.add_root(model)\n",
    "        except:\n",
    "            pass\n",
    "\n",
    "    @staticmethod\n",
    "    def serve(callback):\n",
    "        if not EmbeddedBokehServer.__bkh_srv__:\n",
    "            EmbeddedBokehServer.__start_server() \n",
    "        #TODO: should we locked EmbeddedBokehServer.__callbacks__?\n",
    "        EmbeddedBokehServer.__callbacks__.appendleft(callback)\n",
    "        script = autoload_server(model=None, url=EmbeddedBokehServer.__srv_url__)\n",
    "        html_display = HTML(script)\n",
    "        display(html_display)"
   ]
  },
  {
   "cell_type": "code",
   "execution_count": null,
   "metadata": {
    "collapsed": true
   },
   "outputs": [],
   "source": [
    "# this is supposed to return a bokeh model (e.g. figure or layout)\n",
    "def plot1(doc):\n",
    "    p = figure(plot_width=850, plot_height=200)\n",
    "    p.circle([1, 2, 3, 4, 5], [6, 8, 6, 4, 9], size=20, color=\"navy\", alpha=0.5)\n",
    "    return p"
   ]
  },
  {
   "cell_type": "code",
   "execution_count": null,
   "metadata": {
    "collapsed": true
   },
   "outputs": [],
   "source": [
    "# this is supposed to return a bokeh model (e.g. figure or layout)\n",
    "def plot2(doc):\n",
    "    p = figure(plot_width=850, plot_height=200)\n",
    "    p.square([1, 2, 3, 4, 5], [6, 7, 6, 4, 5], size=20, color=\"green\", alpha=0.5)\n",
    "    return p"
   ]
  },
  {
   "cell_type": "code",
   "execution_count": null,
   "metadata": {},
   "outputs": [],
   "source": [
    "EmbeddedBokehServer.serve(plot1)"
   ]
  },
  {
   "cell_type": "code",
   "execution_count": null,
   "metadata": {},
   "outputs": [],
   "source": [
    "EmbeddedBokehServer.serve(plot2)"
   ]
  },
  {
   "cell_type": "code",
   "execution_count": null,
   "metadata": {},
   "outputs": [],
   "source": [
    "EmbeddedBokehServer.print_info()"
   ]
  },
  {
   "cell_type": "code",
   "execution_count": null,
   "metadata": {
    "collapsed": true
   },
   "outputs": [],
   "source": []
  }
 ],
 "metadata": {
  "kernelspec": {
   "display_name": "Python 3",
   "language": "python",
   "name": "python3"
  },
  "language_info": {
   "codemirror_mode": {
    "name": "ipython",
    "version": 3
   },
   "file_extension": ".py",
   "mimetype": "text/x-python",
   "name": "python",
   "nbconvert_exporter": "python",
   "pygments_lexer": "ipython3",
   "version": "3.6.0"
  }
 },
 "nbformat": 4,
 "nbformat_minor": 2
}
