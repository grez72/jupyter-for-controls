{
 "cells": [
  {
   "cell_type": "markdown",
   "metadata": {},
   "source": [
    "### A notebook evaluating a possible implementation for _live Boheh plots in a notebook cell_"
   ]
  },
  {
   "cell_type": "code",
   "execution_count": 8,
   "metadata": {
    "collapsed": true
   },
   "outputs": [],
   "source": [
    "from __future__ import print_function\n",
    "import logging\n",
    "import socket\n",
    "import datetime\n",
    "from collections import OrderedDict\n",
    "from math import ceil, pi\n",
    "import six\n",
    "import ipywidgets as widgets\n",
    "import numpy as np\n",
    "from IPython.display import HTML\n",
    "from bokeh.application import Application\n",
    "from bokeh.application.handlers import FunctionHandler\n",
    "from bokeh.embed import autoload_server\n",
    "from bokeh.io import output_notebook, reset_output\n",
    "from bokeh.layouts import row, column, layout, gridplot\n",
    "from bokeh.models import ColumnDataSource, CustomJS, DatetimeTickFormatter\n",
    "from bokeh.models import widgets as bkhwidgets\n",
    "from bokeh.models.glyphs import Rect\n",
    "from bokeh.models.mappers import LinearColorMapper\n",
    "from bokeh.models.ranges import Range1d\n",
    "from bokeh.models.tools import BoxSelectTool, HoverTool, CrosshairTool\n",
    "from bokeh.models.tools import ResetTool, PanTool, BoxZoomTool, ResizeTool\n",
    "from bokeh.models.tools import WheelZoomTool, SaveTool\n",
    "from bokeh.models.widgets import Slider, Button\n",
    "from bokeh.palettes import Plasma256\n",
    "from bokeh.plotting import figure\n",
    "from bokeh.plotting.figure import Figure\n",
    "from bokeh.resources import INLINE\n",
    "from bokeh.server.server import Server\n",
    "from tornado.ioloop import IOLoop\n",
    "from tools import *"
   ]
  },
  {
   "cell_type": "code",
   "execution_count": 9,
   "metadata": {
    "collapsed": true
   },
   "outputs": [],
   "source": [
    "from collections import deque\n",
    "\n",
    "class EmbeddedBokehServer(object):\n",
    "\n",
    "    __bkh_app__ = None\n",
    "    __bkh_srv__ = None\n",
    "    __srv_url__ = None\n",
    "    __callbacks__ = deque()\n",
    "\n",
    "    @staticmethod\n",
    "    def print_info():\n",
    "        try:\n",
    "            print(\"Bokeh server URL: {}\".format(EmbeddedBokehServer.__srv_url__))\n",
    "            sessions = EmbeddedBokehServer.__bkh_srv__.get_sessions()\n",
    "            print(\"Number of opened sessions: {}\".format(len(sessions)))\n",
    "        except:\n",
    "            pass\n",
    "        \n",
    "    @staticmethod\n",
    "    def __start_server():\n",
    "        app = Application(FunctionHandler(EmbeddedBokehServer.__entry_point))\n",
    "        srv = Server(\n",
    "            {'/': app},\n",
    "            io_loop=IOLoop.instance(),\n",
    "            port=0,\n",
    "            host='*',\n",
    "            allow_websocket_origin=['*']\n",
    "        )\n",
    "        srv.start()\n",
    "        srv_addr = srv.address if srv.address else socket.gethostbyname(socket.gethostname())\n",
    "        EmbeddedBokehServer.__bkh_srv__ = srv\n",
    "        EmbeddedBokehServer.__bkh_app__ = app\n",
    "        EmbeddedBokehServer.__srv_url__ = 'http://{}:{}'.format(srv_addr, srv.port)\n",
    "        \n",
    "    @staticmethod\n",
    "    def __entry_point(doc):\n",
    "        try:\n",
    "            #TODO: should we locked EmbeddedBokehServer.__callbacks__?\n",
    "            callback = EmbeddedBokehServer.__callbacks__.pop()\n",
    "            callback(doc)\n",
    "        except:\n",
    "            pass\n",
    "\n",
    "    @staticmethod\n",
    "    def serve(callback):\n",
    "        if not EmbeddedBokehServer.__bkh_srv__:\n",
    "            EmbeddedBokehServer.__start_server() \n",
    "        #TODO: should we locked EmbeddedBokehServer.__callbacks__?\n",
    "        EmbeddedBokehServer.__callbacks__.appendleft(callback)\n",
    "        script = autoload_server(model=None, url=EmbeddedBokehServer.__srv_url__)\n",
    "        html_display = HTML(script)\n",
    "        display(html_display)"
   ]
  },
  {
   "cell_type": "code",
   "execution_count": 10,
   "metadata": {
    "collapsed": true
   },
   "outputs": [],
   "source": [
    "def entry_point_c(doc):\n",
    "    p = figure(plot_width=850, plot_height=200)\n",
    "    p.circle([1, 2, 3, 4, 5], [6, 7, 2, 4, 5], size=20, color=\"navy\", alpha=0.5)\n",
    "    doc.add_root(p)"
   ]
  },
  {
   "cell_type": "code",
   "execution_count": 11,
   "metadata": {
    "collapsed": true
   },
   "outputs": [],
   "source": [
    "def entry_point_s(doc):\n",
    "    p = figure(plot_width=850, plot_height=200)\n",
    "    p.square([1, 2, 3, 4, 5], [6, 7, 2, 4, 5], size=20, color=\"green\", alpha=0.5)\n",
    "    doc.add_root(p)"
   ]
  },
  {
   "cell_type": "code",
   "execution_count": 16,
   "metadata": {},
   "outputs": [
    {
     "data": {
      "text/html": [
       "\n",
       "<script\n",
       "    src=\"http://127.0.0.1:57195/autoload.js?bokeh-autoload-element=08c03a0f-720a-424e-9b3a-b3c95849cbf0&bokeh-app-path=/&bokeh-absolute-url=http://127.0.0.1:57195\"\n",
       "    id=\"08c03a0f-720a-424e-9b3a-b3c95849cbf0\"\n",
       "    data-bokeh-model-id=\"\"\n",
       "    data-bokeh-doc-id=\"\"\n",
       "></script>"
      ],
      "text/plain": [
       "<IPython.core.display.HTML object>"
      ]
     },
     "metadata": {},
     "output_type": "display_data"
    }
   ],
   "source": [
    "EmbeddedBokehServer.serve(entry_point_c)"
   ]
  },
  {
   "cell_type": "code",
   "execution_count": 17,
   "metadata": {},
   "outputs": [
    {
     "data": {
      "text/html": [
       "\n",
       "<script\n",
       "    src=\"http://127.0.0.1:57195/autoload.js?bokeh-autoload-element=8b62c978-389c-4ad9-a27a-ffe4eedc5b26&bokeh-app-path=/&bokeh-absolute-url=http://127.0.0.1:57195\"\n",
       "    id=\"8b62c978-389c-4ad9-a27a-ffe4eedc5b26\"\n",
       "    data-bokeh-model-id=\"\"\n",
       "    data-bokeh-doc-id=\"\"\n",
       "></script>"
      ],
      "text/plain": [
       "<IPython.core.display.HTML object>"
      ]
     },
     "metadata": {},
     "output_type": "display_data"
    }
   ],
   "source": [
    "EmbeddedBokehServer.serve(entry_point_s)"
   ]
  },
  {
   "cell_type": "code",
   "execution_count": 18,
   "metadata": {},
   "outputs": [
    {
     "name": "stdout",
     "output_type": "stream",
     "text": [
      "Bokeh server URL: http://127.0.0.1:57195\n",
      "Number of opened sessions: 4\n"
     ]
    }
   ],
   "source": [
    "EmbeddedBokehServer.print_info()"
   ]
  },
  {
   "cell_type": "code",
   "execution_count": null,
   "metadata": {
    "collapsed": true
   },
   "outputs": [],
   "source": []
  }
 ],
 "metadata": {
  "kernelspec": {
   "display_name": "Python 3",
   "language": "python",
   "name": "python3"
  },
  "language_info": {
   "codemirror_mode": {
    "name": "ipython",
    "version": 3
   },
   "file_extension": ".py",
   "mimetype": "text/x-python",
   "name": "python",
   "nbconvert_exporter": "python",
   "pygments_lexer": "ipython3",
   "version": "3.6.0"
  }
 },
 "nbformat": 4,
 "nbformat_minor": 2
}
