{
 "cells": [
  {
   "cell_type": "markdown",
   "metadata": {},
   "source": [
    "### A notebook evaluating a possible implementation for _live Boheh plots in a notebook cell_"
   ]
  },
  {
   "cell_type": "code",
   "execution_count": null,
   "metadata": {},
   "outputs": [],
   "source": [
    "from __future__ import print_function\n",
    "from collections import deque\n",
    "from math import ceil, pi\n",
    "import socket\n",
    "import six\n",
    "import ipywidgets as widgets\n",
    "import numpy as np\n",
    "from IPython.display import HTML\n",
    "from tornado.ioloop import IOLoop\n",
    "from bokeh.application import Application\n",
    "from bokeh.application.handlers import Handler, FunctionHandler\n",
    "from bokeh.embed import autoload_server\n",
    "from bokeh.io import output_notebook, reset_output\n",
    "from bokeh.layouts import row, column, layout, gridplot\n",
    "from bokeh.models import ColumnDataSource, CustomJS\n",
    "from bokeh.models.glyphs import Rect\n",
    "from bokeh.plotting import figure\n",
    "from bokeh.plotting.figure import Figure\n",
    "from bokeh.server.server import Server"
   ]
  },
  {
   "cell_type": "code",
   "execution_count": null,
   "metadata": {},
   "outputs": [],
   "source": [
    "output_notebook()"
   ]
  },
  {
   "cell_type": "code",
   "execution_count": null,
   "metadata": {},
   "outputs": [],
   "source": [
    "class SessionHandler(Handler):\n",
    "\n",
    "    def on_server_loaded(self, server_context):\n",
    "        print(\"SessionHandler.on_server_loaded called!\")\n",
    "\n",
    "    def on_server_unloaded(self, server_context):\n",
    "        print(\"SessionHandler.on_server_unloaded called!\")\n",
    "\n",
    "    def on_session_created(self, session_context):\n",
    "        print(\"SessionHandler.on_session_created called!\")\n",
    "\n",
    "    def on_session_destroyed(self, session_context):\n",
    "        print(\"SessionHandler.on_session_destroye called!\")"
   ]
  },
  {
   "cell_type": "code",
   "execution_count": null,
   "metadata": {},
   "outputs": [],
   "source": [
    "class EmbeddedBokehServer(object):\n",
    "\n",
    "    __bkh_app__ = None\n",
    "    __bkh_srv__ = None\n",
    "    __srv_url__ = None\n",
    "    __clients__ = deque()\n",
    "\n",
    "    @staticmethod\n",
    "    def print_info():\n",
    "        try:\n",
    "            print(\"Bokeh server URL: {}\".format(EmbeddedBokehServer.__srv_url__))\n",
    "            sessions = EmbeddedBokehServer.__bkh_srv__.get_sessions()\n",
    "            print(\"Number of opened sessions: {}\".format(len(sessions)))\n",
    "        except:\n",
    "            pass\n",
    "        \n",
    "    @staticmethod\n",
    "    def __start_server():\n",
    "        app = Application(FunctionHandler(EmbeddedBokehServer.__entry_point))\n",
    "        app.add(SessionHandler())\n",
    "        srv = Server(\n",
    "            {'/': app},\n",
    "            io_loop=IOLoop.instance(),\n",
    "            port=0,\n",
    "            host='*',\n",
    "            allow_websocket_origin=['*']\n",
    "        )\n",
    "        srv.start()\n",
    "        srv_addr = srv.address if srv.address else socket.gethostbyname(socket.gethostname())\n",
    "        EmbeddedBokehServer.__bkh_srv__ = srv\n",
    "        EmbeddedBokehServer.__bkh_app__ = app\n",
    "        EmbeddedBokehServer.__srv_url__ = 'http://{}:{}'.format(srv_addr, srv.port)\n",
    "        \n",
    "    @staticmethod\n",
    "    def __entry_point(doc):\n",
    "        try:\n",
    "            #TODO: should we locked EmbeddedBokehServer.__callbacks__?\n",
    "            client = EmbeddedBokehServer.__clients__.pop()\n",
    "            model = client['mcb']()\n",
    "            doc.add_root(model)\n",
    "            doc.add_periodic_callback(client['pcb'], 1000. * client['prd'])\n",
    "        except:\n",
    "            pass\n",
    "\n",
    "    @staticmethod\n",
    "    def serve(model_cb, periodic_cb=None, period=1.0):\n",
    "        if not EmbeddedBokehServer.__bkh_srv__:\n",
    "            EmbeddedBokehServer.__start_server() \n",
    "        #TODO: should we locked EmbeddedBokehServer.__callbacks__?\n",
    "        EmbeddedBokehServer.__clients__.appendleft({'mcb':model_cb, 'pcb':periodic_cb, 'prd':period})\n",
    "        script = autoload_server(model=None, url=EmbeddedBokehServer.__srv_url__)\n",
    "        html_display = HTML(script)\n",
    "        display(html_display)"
   ]
  },
  {
   "cell_type": "code",
   "execution_count": null,
   "metadata": {},
   "outputs": [],
   "source": [
    "# this is supposed to return a bokeh model (e.g. figure or layout)\n",
    "def model_cb_1():\n",
    "    p = figure(plot_width=850, plot_height=200)\n",
    "    p.circle([1, 2, 3, 4, 5], [6, 8, 6, 4, 9], size=20, color=\"navy\", alpha=0.5)\n",
    "    return p\n",
    "\n",
    "# periodic callback \n",
    "def periodic_cb_1():\n",
    "    print(\"periodic_cb_1 called!\")"
   ]
  },
  {
   "cell_type": "code",
   "execution_count": null,
   "metadata": {},
   "outputs": [],
   "source": [
    "EmbeddedBokehServer.serve(model_cb_1, periodic_cb_1)"
   ]
  },
  {
   "cell_type": "code",
   "execution_count": null,
   "metadata": {
    "collapsed": true
   },
   "outputs": [],
   "source": [
    "# this is supposed to return a bokeh model (e.g. figure or layout)\n",
    "def model_cb_2():\n",
    "    p = figure(plot_width=850, plot_height=200)\n",
    "    p.square([1, 2, 3, 4, 5], [6, 7, 6, 4, 5], size=20, color=\"green\", alpha=0.5)\n",
    "    return p\n",
    "\n",
    "# periodic callback \n",
    "def periodic_cb_2():\n",
    "    print(\"periodic_cb_2 called!\")"
   ]
  },
  {
   "cell_type": "code",
   "execution_count": null,
   "metadata": {
    "collapsed": true
   },
   "outputs": [],
   "source": [
    "EmbeddedBokehServer.serve(model_cb_2, periodic_cb_2)"
   ]
  },
  {
   "cell_type": "code",
   "execution_count": null,
   "metadata": {
    "collapsed": true
   },
   "outputs": [],
   "source": [
    "EmbeddedBokehServer.print_info()"
   ]
  },
  {
   "cell_type": "code",
   "execution_count": null,
   "metadata": {
    "collapsed": true
   },
   "outputs": [],
   "source": []
  }
 ],
 "metadata": {
  "kernelspec": {
   "display_name": "Python 3",
   "language": "python",
   "name": "python3"
  },
  "language_info": {
   "codemirror_mode": {
    "name": "ipython",
    "version": 3
   },
   "file_extension": ".py",
   "mimetype": "text/x-python",
   "name": "python",
   "nbconvert_exporter": "python",
   "pygments_lexer": "ipython3",
   "version": "3.6.0"
  }
 },
 "nbformat": 4,
 "nbformat_minor": 2
}
