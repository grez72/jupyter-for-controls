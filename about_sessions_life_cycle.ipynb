{
 "cells": [
  {
   "cell_type": "markdown",
   "metadata": {},
   "source": [
    "# bokeh in the notebook: managing resources lifecycle \n",
    "\n",
    "\n",
    "## About this notebook\n",
    "\n",
    "This notebook belongs to a series of small projects which aim is to evaluate the [Jupyter](http://jupyter.org/) ecosystem for science experiments control. The main idea is use the _Juypter notebook_ as a convergence platform in order to offer a fully featured environment to scientists. \n",
    "\n",
    "## About bokeh\n",
    "\n",
    "Experiments control requires both static and dynamic (i.e live) data visualization. Since Jupyter doesn't provide any 'official' data visualization solution, we need to select one. Among the available solutions, [bokeh](http://bokeh.pydata.org/en/latest) presents the highest potential for our application.\n",
    "\n",
    "Bokeh as been selected for its:\n",
    "1. [built-in notebook integration](http://bokeh.pydata.org/en/latest/docs/user_guide/notebook.html)\n",
    "2. built-in [data streaming](http://bokeh.pydata.org/en/latest/docs/reference/models/sources.html#bokeh.models.sources.ColumnDataSource.patch) [features](http://bokeh.pydata.org/en/latest/docs/reference/models/sources.html#bokeh.models.sources.ColumnDataSource.stream) for live plots update \n",
    "3. ability to add [custom or specialized behaviors](http://bokeh.pydata.org/en/latest/docs/user_guide/interaction/callbacks.html) in response to property changes and other events\n",
    "4. [graphics quality](http://bokeh.pydata.org/en/latest/docs/gallery.html#gallery)\n",
    "\n",
    "Have a look to this [quickstart](http://bokeh.pydata.org/en/latest/docs/user_guide/quickstart.html) for a bokeh overview.\n",
    "\n",
    "## Topic of the day\n",
    "\n",
    "The following content tries to point out a problem we faced while evaluating bokeh in the jupyter notebook. To summarize, let's say that bokeh works really well and fulfills our requirements but it currently (*) has some side-effects that make things diverge in terms of performances and memory consumption. \n",
    "\n",
    "(*) true for bokeh version <= 0.12.6\n",
    "\n",
    "So let's see what we are talking about...  "
   ]
  },
  {
   "cell_type": "markdown",
   "metadata": {},
   "source": [
    "### Route bokeh outputs to notebook cells\n",
    "This will also load BokehJS - the JavaScript part of bokeh."
   ]
  },
  {
   "cell_type": "code",
   "execution_count": null,
   "metadata": {},
   "outputs": [],
   "source": [
    "from bokeh.io import output_notebook\n",
    "output_notebook()"
   ]
  },
  {
   "cell_type": "markdown",
   "metadata": {},
   "source": [
    "### BokehSessionHandler class\n",
    "See 'Lifecycle' in [bokeh server architecture](http://bokeh.pydata.org/en/latest/docs/dev_guide/server.html#devguide-server).\n",
    "We simply use it to trace the bokeh server events but it might be a bit more useful in the future."
   ]
  },
  {
   "cell_type": "code",
   "execution_count": null,
   "metadata": {
    "collapsed": true
   },
   "outputs": [],
   "source": [
    "from __future__ import print_function\n",
    "\n",
    "from bokeh.application.handlers import Handler\n",
    "\n",
    "class BokehSessionHandler(Handler):\n",
    "\n",
    "    def on_server_loaded(self, server_context):\n",
    "        print(\"SessionHandler: on_server_loaded <<\")\n",
    "        print(\"SessionHandler: on_server_loaded >>\")\n",
    "\n",
    "    def on_server_unloaded(self, server_context):\n",
    "        print(\"SessionHandler: on_server_unloaded <<\")\n",
    "        print(\"SessionHandler: on_server_unloaded >>\")\n",
    "\n",
    "    def on_session_created(self, session_context):\n",
    "        print(\"SessionHandler: on_session_created <<\")\n",
    "        BokehServer.print_info(True)\n",
    "        print(\"SessionHandler: on_session_created >>\")\n",
    "\n",
    "    def on_session_destroyed(self, session_context):\n",
    "        print(\"SessionHandler: on_server_unloaded <<\")\n",
    "        print(\"SessionHandler: on_server_unloaded >>\")\n"
   ]
  },
  {
   "cell_type": "markdown",
   "metadata": {},
   "source": [
    "### BokehSession class\n",
    "\n",
    "This is the super class of any _session_ we open on the `BokehServer` singleton. \n",
    "\n",
    "Our model is based on a _'one session per notebook cell'_ approach. It means that each _session_ is tightly linked to a particular cell. This is a good thing cause we obviously want the bokeh plots to appear as _outputs_ of the cell from which they've created. More generally, we'll certainly want every _output_ related to session to be routed to its associated cell. That's the next 'topic of the day' we'll treat. \n",
    "\n",
    "See also `BokehServer.open_session`."
   ]
  },
  {
   "cell_type": "code",
   "execution_count": null,
   "metadata": {
    "collapsed": true
   },
   "outputs": [],
   "source": [
    "class BokehSession(object):\n",
    "    \n",
    "    def __init__(self):\n",
    "        \"\"\"the associated bokeh document (set by 'friend' class BokehServer - for experts only)\"\"\"\n",
    "        self._doc = None\n",
    "        \"\"\"periodic callback period in seconds - defaults to None (i.e. periodic callback disabled)\"\"\"\n",
    "        self._callback_period = None\n",
    "        \n",
    "    def open(self):\n",
    "        \"\"\"open the session\"\"\"\n",
    "        BokehServer.open_session(self)\n",
    "        \n",
    "    def close(self):\n",
    "        \"\"\"close the session\"\"\"\n",
    "        BokehServer.close_session(self)\n",
    "        \n",
    "    def setup_model(self):\n",
    "        \"\"\"return the bokeh model - i.e. plot(s) or layout - to be attached to the session or None is no model\"\"\"\n",
    "        return None\n",
    "\n",
    "    def periodic_callback(self):\n",
    "        \"\"\"return the periodic callback or None is the session has no periodic activity\"\"\"\n",
    "        return None\n",
    "    \n",
    "    @property \n",
    "    def callback_period(self):\n",
    "        \"\"\"return the (periodic) callback period in seconds or None (i.e. periodic callback disabled)\"\"\"\n",
    "        return self._callback_period\n",
    "\n",
    "    @callback_period.setter \n",
    "    def callback_period(self, p):\n",
    "        \"\"\"set the (periodic) callback period in seconds or None to disable the callback\"\"\"\n",
    "        self._callback_period = p\n",
    "        if self._doc is not None:\n",
    "            BokehServer.update_callback_period(self)"
   ]
  },
  {
   "cell_type": "markdown",
   "metadata": {},
   "source": [
    "### BokehServer class\n",
    "\n",
    "Embedded bokeh server. Private singleton.  "
   ]
  },
  {
   "cell_type": "code",
   "execution_count": null,
   "metadata": {
    "collapsed": true
   },
   "outputs": [],
   "source": [
    "import socket\n",
    "from collections import deque\n",
    "\n",
    "from IPython.display import HTML, clear_output\n",
    "\n",
    "from tornado.ioloop import IOLoop\n",
    "from bokeh.server.server import Server\n",
    "from bokeh.application import Application\n",
    "from bokeh.application.handlers import FunctionHandler\n",
    "from bokeh.embed import autoload_server\n",
    "from bokeh.io import reset_output\n",
    "\n",
    "class BokehServer(object):\n",
    "\n",
    "    __bkh_app__ = None\n",
    "    __bkh_srv__ = None\n",
    "    __srv_url__ = None\n",
    "    __sessions__ = deque()\n",
    "        \n",
    "    @staticmethod\n",
    "    def __start_server():\n",
    "        app = Application(FunctionHandler(BokehServer.__entry_point))\n",
    "        app.add(BokehSessionHandler())\n",
    "        srv = Server(\n",
    "            {'/': app},\n",
    "            io_loop=IOLoop.instance(),\n",
    "            port=0,\n",
    "            host='*',\n",
    "            allow_websocket_origin=['*']\n",
    "        )\n",
    "        srv.start()\n",
    "        srv_addr = srv.address if srv.address else socket.gethostbyname(socket.gethostname())\n",
    "        BokehServer.__bkh_srv__ = srv\n",
    "        BokehServer.__bkh_app__ = app\n",
    "        BokehServer.__srv_url__ = 'http://{}:{}'.format(srv_addr, srv.port)\n",
    "        \n",
    "    @staticmethod\n",
    "    def __entry_point(doc):\n",
    "        try:\n",
    "            session = BokehServer.__sessions__.pop() #TODO: should we lock BokehServer.__sessions__? \n",
    "            session._doc = doc\n",
    "            model = session.setup_model()\n",
    "            if model:\n",
    "                doc.add_root(model)\n",
    "            BokehServer.__add_periodic_callback(session)\n",
    "        except Exception as e:\n",
    "            print(e)\n",
    "        \n",
    "    @staticmethod\n",
    "    def __add_periodic_callback(session):\n",
    "        assert(isinstance(session, BokehSession))\n",
    "        pcb = session.periodic_callback\n",
    "        try:\n",
    "            session._doc.remove_periodic_callback(pcb)\n",
    "        except:\n",
    "            pass\n",
    "        prd = session.callback_period\n",
    "        if prd is not None:\n",
    "            session._doc.add_periodic_callback(pcb, max(250, 1000. * prd))\n",
    "        \n",
    "    @staticmethod\n",
    "    def open_session(new_session):\n",
    "        assert(isinstance(new_session, BokehSession))\n",
    "        if not BokehServer.__bkh_srv__:\n",
    "            BokehServer.__start_server()\n",
    "        BokehServer.__sessions__.appendleft(new_session) #TODO: should we lock BokehServer.__sessions__? \n",
    "        script = autoload_server(model=None, url=BokehServer.__srv_url__)\n",
    "        html_display = HTML(script)\n",
    "        display(html_display)\n",
    "        \n",
    "    @staticmethod\n",
    "    def close_session(session):\n",
    "        \"\"\"totally experimental attempt to destroy a session from python!\"\"\"\n",
    "        assert(isinstance(session, BokehSession))\n",
    "        session_id = session._doc.session_context.id\n",
    "        print(\"trying to destroy session '{}'\".format(session_id))\n",
    "        session = BokehServer.__bkh_srv__.get_session('/', session_id)\n",
    "        session.destroy()\n",
    "        print(\"session '{}' successfully destroyed\".format(session_id))\n",
    "        \n",
    "    @staticmethod\n",
    "    def update_callback_period(session):\n",
    "        assert(isinstance(session, BokehSession))\n",
    "        BokehServer.__add_periodic_callback(session)\n",
    "        \n",
    "    @staticmethod\n",
    "    def print_info(called_from_session_handler=False):\n",
    "        if not BokehServer.__bkh_srv__:\n",
    "            print(\"no Bokeh server running\") \n",
    "            return\n",
    "        try:\n",
    "            print(\"Bokeh server URL: {}\".format(BokehServer.__srv_url__))\n",
    "            sessions = BokehServer.__bkh_srv__.get_sessions()\n",
    "            num_sessions = len(sessions)\n",
    "            if called_from_session_handler:\n",
    "                num_sessions += 1\n",
    "            print(\"Number of opened sessions: {}\".format(num_sessions))\n",
    "        except Exception as e:\n",
    "            print(e)\n",
    "            "
   ]
  },
  {
   "cell_type": "markdown",
   "metadata": {},
   "source": [
    "### MySession class\n",
    "A user specialization of the `BokehSession`."
   ]
  },
  {
   "cell_type": "code",
   "execution_count": null,
   "metadata": {
    "collapsed": true
   },
   "outputs": [],
   "source": [
    "import numpy as np\n",
    "\n",
    "from bokeh.plotting import figure\n",
    "from bokeh.plotting.figure import Figure\n",
    "from bokeh.models.glyphs import Rect\n",
    "from bokeh.models import ColumnDataSource\n",
    "from bokeh.models.widgets import Slider\n",
    "from bokeh.layouts import layout, widgetbox\n",
    "\n",
    "class MySession(BokehSession):\n",
    "    \n",
    "    def __init__(self):\n",
    "        BokehSession.__init__(self)\n",
    "        self.callback_period = 1.\n",
    "        self._np = 100\n",
    "        self._widgets_layout = None\n",
    "        columns = dict()\n",
    "        columns['x'] = self._gen_x_scale()\n",
    "        columns['y'] = self._gen_random_data()\n",
    "        self._cds = ColumnDataSource(data=columns)\n",
    "\n",
    "    def _gen_x_scale(self):\n",
    "        \"\"\"x data\"\"\"\n",
    "        return np.linspace(1, self._np, num=self._np, endpoint=True)\n",
    "    \n",
    "    def _gen_random_data(self):\n",
    "        \"\"\"y data\"\"\"\n",
    "        return np.random.rand(self._np)\n",
    "    \n",
    "    def __on_refresh_period_change(self, attr, old, new):\n",
    "        \"\"\"called when the user changes the refresh period using the dedicated slider\"\"\"\n",
    "        self.callback_period = new\n",
    "        \n",
    "    def __on_num_points_change(self, attr, old, new):\n",
    "        \"\"\"called when the user changes the number of points using the dedicated slider\"\"\"\n",
    "        self._np = int(new)\n",
    "\n",
    "    def setup_model(self):\n",
    "        \"\"\"setup the session model then return it\"\"\"\n",
    "        rrs = Slider(start=0.25, end=2, value=self.callback_period, step=0.25, title=\"Refresh period [s]\")\n",
    "        rrs.on_change(\"value\", self.__on_refresh_period_change)\n",
    "        nps = Slider(start=0, end=1000, value=self._np, step=10, title=\"Num. points\")\n",
    "        nps.on_change(\"value\", self.__on_num_points_change)\n",
    "        p = figure(plot_width=650, plot_height=200)\n",
    "        p.toolbar_location = 'above'\n",
    "        p.line(x='x', y='y', source=self._cds, color=\"navy\", alpha=0.5)\n",
    "        self._widgets_layout = widgetbox(nps, rrs)\n",
    "        return layout([[self._widgets_layout, p]])\n",
    "    \n",
    "    def periodic_callback(self):\n",
    "        \"\"\"periodic callback\"\"\"\n",
    "        self._cds.data.update(x=self._gen_x_scale(), y=self._gen_random_data())"
   ]
  },
  {
   "cell_type": "markdown",
   "metadata": {},
   "source": [
    "### SC1: let's open a first session..."
   ]
  },
  {
   "cell_type": "code",
   "execution_count": null,
   "metadata": {},
   "outputs": [],
   "source": [
    "s1 = MySession()\n",
    "s1.open()"
   ]
  },
  {
   "cell_type": "markdown",
   "metadata": {},
   "source": [
    "### SC2: open a second session..."
   ]
  },
  {
   "cell_type": "code",
   "execution_count": null,
   "metadata": {},
   "outputs": [],
   "source": [
    "s2 = MySession()\n",
    "s2.open()"
   ]
  },
  {
   "cell_type": "markdown",
   "metadata": {},
   "source": [
    "### What if we re-execute SC1 and/or SC2?\n",
    "We now have two running sessions and everything works properly. However, what if we re-execute SC1 or SC2?\n",
    "\n",
    "Please, do so and see how many running sessions we have...\n",
    "\n",
    "We now have 3 sessions running! It means that re-executing the cell doesn't magically cleanup the previous session\n",
    ". The same apply if we `clear` the cell output (see `Cell` menu > `Current Outputs` > `Clear`). \n",
    "\n",
    "The bad new is that things will clearly diverge after a few tens CS1 (and/or CS2) re-execution cause the zombies sessions continue to run in the background - generating some CPU load and memory leaks. \n",
    "\n",
    "So, the big question is: is there a way to deal with this? is there a mechanism providing a way to properly cleanup a session when the cell to which it's attached is re-executed or cleared? "
   ]
  },
  {
   "cell_type": "markdown",
   "metadata": {
    "collapsed": true
   },
   "source": [
    "### Discussion\n",
    "\n",
    "#### The Jupyter Notebook part of the problem\n",
    "So far, the jupyter notebook doesn't provide any notification mechanism that could help in our case. There's no way to attach an action callback and some user data to a cell. We could imagine something like:\n",
    "1. attach `my_cleanup_callback` to the _current cell_ for the `execute` and the `clear` actions,\n",
    "2. pass `my_internal_scheming_data` as an argument when `my_cleanup_callback` is triggered.  \n",
    "\n",
    "With such a mechanism we could easily retrieve the cell content and properly release the associated resources.\n",
    "There's certainly a smarter/more adapted/... solution but that's the idea. \n",
    "\n",
    "In our case, one could argue that adding a `close` button to the layout returned by `MySession.setup_model` could partially solve the problem. That's true as far as the user use this button to close the cell before re-executing it. IHMO, that's ugly and error prone. However, in next section, the `MyExtendedSession` class adds such a close button in order to be able to work on the bokeh part of the problem.  \n",
    "\n",
    "#### The bokeh part of the problem\n",
    "Let's now pretend we have a way to be notified when it's time to cleanup our session(s). Ok, but, does bokeh offer a way to properly cleanup a server session? So far, no. There's currently no solution to that problem. It seems that the next bokeh release - i.e. 0.12.7 - will notably focus on performances and memory management but for now, we can't provide the scientists with something usable in production. \n",
    "\n",
    "Releasing the resources on python side is not the biggest part of the problem. The main problem is the memory leaks generated in the browser on JavaScript side (a.k.a BokehJS).\n",
    "\n",
    "We tried two different designs:\n",
    "- the present one, based on the `BokehServer` class\n",
    "- and [this one](https://github.com/nleclercq/jupyter-for-controls/tree/master/bokeh-data-streaming-for-notebook) in which we were using a _\"one server per session per model\"_ approach.\n",
    "\n",
    "In both case, we could find a solution to properly release the session resources on python side but not on JS side. "
   ]
  },
  {
   "cell_type": "markdown",
   "metadata": {},
   "source": [
    "### MyExtendedSession class: trying to do something to properly destroy a session from python \n",
    "\n",
    "We now reach the heart of the problem we are trying to address in this study. \n",
    "\n",
    "The idea here is to add a `close` button which `on_click` callback triggers a cleanup process. The latter contains everything we found useful - in the bokeh API - to release the session resources (i.e. that's just a attempt):\n",
    "\n",
    "- [Document.clear](http://bokeh.pydata.org/en/latest/docs/reference/document.html#bokeh.document.Document.clear)\n",
    "- [reset_output](http://bokeh.pydata.org/en/latest/docs/reference/io.html#bokeh.io.reset_output)\n",
    "- [not documented Session.destroy](https://github.com/bokeh/bokeh/blob/master/bokeh/server/session.py). See `BokehServer.close_session` above."
   ]
  },
  {
   "cell_type": "code",
   "execution_count": null,
   "metadata": {
    "collapsed": true
   },
   "outputs": [],
   "source": [
    "from bokeh.models.widgets import Button\n",
    "\n",
    "class MyExtendedSession(MySession):\n",
    "    \n",
    "    def __init__(self):\n",
    "        MySession.__init__(self)\n",
    "\n",
    "    def setup_model(self):\n",
    "        model = super(MyExtendedSession, self).setup_model()\n",
    "        b = Button(label='close')\n",
    "        b.on_click(self.close)\n",
    "        self._widgets_layout.children.append(b)\n",
    "        return model\n",
    "    \n",
    "    def periodic_callback(self):\n",
    "        print('MyExtendedSession.periodic_callback <<')\n",
    "        super(MyExtendedSession, self).periodic_callback()\n",
    "        print('MyExtendedSession.periodic_callback >>')\n",
    "   \n",
    "    def close(self):  \n",
    "        \"\"\"overwrites super.close - tries to cleanup everything properly - at least on python side\"\"\"\n",
    "        try:\n",
    "            # clear document content (i.e. remove roots)\n",
    "            self._doc.clear()\n",
    "        except Exception as e:\n",
    "            self.exception(e)\n",
    "        try:\n",
    "            # reset_output \n",
    "            reset_output()\n",
    "        except Exception as e:\n",
    "            self.exception(e)\n",
    "        try:  \n",
    "            # close the session (will remove all callbacks)\n",
    "            BokehServer.close_session(self)\n",
    "        except Exception as e:\n",
    "            self.exception(e) \n",
    "        # finally clear cell outputs - e.g. logging (this is an ipython call - not a bokeh one)\n",
    "        clear_output()"
   ]
  },
  {
   "cell_type": "code",
   "execution_count": null,
   "metadata": {},
   "outputs": [],
   "source": [
    "s3 = MyExtendedSession()\n",
    "s3.open()"
   ]
  },
  {
   "cell_type": "code",
   "execution_count": null,
   "metadata": {},
   "outputs": [],
   "source": [
    "BokehServer.print_info()"
   ]
  },
  {
   "cell_type": "markdown",
   "metadata": {},
   "source": [
    "### About ServerSession.destroy\n",
    "As far as I understand, `ServerSession.destroy` is normally called - through a `tornado connection` - as a consequence of a `close` request from the client (e.g. when the browser tab is closed or something similar). It means that `ServerSession.destroy` only releases the python resources. Clearly speaking, this can't be the solution we are looking for."
   ]
  },
  {
   "cell_type": "markdown",
   "metadata": {},
   "source": [
    "## Conclusion\n",
    "\n",
    "The conclusion is quite clear: we need something to properly cleanup every single resource attached to a server session on both python and JS side from python itself. My Bokeh/JS knowledge doesn't allow me to propose something but I sure that the bokeh gurus see what I'm talking about. I hope to be able to update this notebook with some good news once 0.12.7 is released.\n",
    "\n",
    "\n",
    "BTW, the content of this notebook is certainly obvious for a bokeh gurus but for the rest of us it could be useful. I personally learned A LOT about bokeh doing this work. Hope this helps you too guys.     "
   ]
  },
  {
   "cell_type": "code",
   "execution_count": null,
   "metadata": {
    "collapsed": true
   },
   "outputs": [],
   "source": []
  }
 ],
 "metadata": {
  "kernelspec": {
   "display_name": "Python 3",
   "language": "python",
   "name": "python3"
  },
  "language_info": {
   "codemirror_mode": {
    "name": "ipython",
    "version": 3
   },
   "file_extension": ".py",
   "mimetype": "text/x-python",
   "name": "python",
   "nbconvert_exporter": "python",
   "pygments_lexer": "ipython3",
   "version": "3.6.0"
  }
 },
 "nbformat": 4,
 "nbformat_minor": 2
}
