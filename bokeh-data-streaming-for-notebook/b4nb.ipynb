{
 "cells": [
  {
   "cell_type": "code",
   "execution_count": 1,
   "metadata": {
    "collapsed": true
   },
   "outputs": [],
   "source": [
    "# some python modules for live data simulation (DataSource)\n",
    "import math\n",
    "import random\n",
    "import numpy as np\n",
    "import logging\n",
    "# bokeh plots data streaming API (see plots.py)\n",
    "from plots import ChannelData, DataSource, BoxSelectionManager\n",
    "from plots import Scale, SpectrumChannel, ImageChannel\n",
    "from plots import DataStream, DataStreamer, DataStreamerController"
   ]
  },
  {
   "cell_type": "code",
   "execution_count": 2,
   "metadata": {
    "collapsed": true
   },
   "outputs": [],
   "source": [
    "# 1D data source for the X axis (here X scale is one of the DataSource)\n",
    "class XDS(DataSource):\n",
    "    \n",
    "    def __init__(self, name, num_points=128):\n",
    "        DataSource.__init__(self, name)\n",
    "        self._l = num_points\n",
    "        self._cnt = 0\n",
    "        \n",
    "    def pull_data(self):\n",
    "        cd = ChannelData(self.name)\n",
    "        if self._cnt < 10:\n",
    "            cd.set_error(\"Don't worry we are simply testing the error handling widgets\", None)\n",
    "        else:\n",
    "            start = random.uniform(-math.pi/2, math.pi/2)\n",
    "            end = 2 * math.pi + start\n",
    "            cd.buffer = np.linspace(start, end, self._l)\n",
    "        self._cnt += 1\n",
    "        return cd\n",
    "    \n",
    "# 1D data source for the Y axis\n",
    "class YDS(DataSource):\n",
    "    \n",
    "    def __init__(self, name, channels=None, num_points=128):\n",
    "        DataSource.__init__(self, name)\n",
    "        self._l = num_points\n",
    "        self._cnt = 0\n",
    "    \n",
    "    def pull_data(self): \n",
    "        cd = ChannelData(self.name)\n",
    "        if self._cnt < 10:\n",
    "            cd.set_error(\"Don't worry we are simply testing the error handling widgets\", None)\n",
    "        else:\n",
    "            p = random.uniform(-math.pi/2, math.pi/2)\n",
    "            start = 0 + p\n",
    "            end = 2 * (math.pi + p)\n",
    "            x = np.linspace(start, end, self._l)\n",
    "            d = random.uniform(1.0, 4.0) * np.sin(x)\n",
    "            cd.buffer = random.uniform(1.0, 4.0) * np.sin(x)\n",
    "        self._cnt += 1\n",
    "        return cd"
   ]
  },
  {
   "cell_type": "code",
   "execution_count": 3,
   "metadata": {
    "collapsed": true
   },
   "outputs": [],
   "source": [
    "# 2D (i.e. image data source)\n",
    "class XYDS(DataSource):\n",
    "    \n",
    "    def __init__(self, name, nx=128, ny=128):\n",
    "        DataSource.__init__(self, name)\n",
    "        self._selection = None\n",
    "        self._inc = 1\n",
    "        self._current_index = 0\n",
    "        self._iw, self._ih = nx, ny\n",
    "        x, y = np.linspace(0, 10, self._iw), np.linspace(0, 10, self._ih)\n",
    "        xx, yy = np.meshgrid(x, y)\n",
    "        self._full_image = np.sin(xx) * np.cos(yy)\n",
    "        self._cnt = 0\n",
    "\n",
    "    def pull_data(self):\n",
    "        cd = ChannelData(self.name) \n",
    "        if self._cnt in range(10,15) or self._cnt in range(20,25):\n",
    "            cd.set_error(\"Don't worry we are simply testing the error handling widgets\", None)\n",
    "        else:\n",
    "            i = self._current_index\n",
    "            cd.buffer = self._full_image[0:i+1, :]\n",
    "            self._current_index += self._inc\n",
    "            if self._current_index > self._ih:\n",
    "                self._current_index = self._ih\n",
    "                self._inc *= -1 \n",
    "            elif self._current_index < 0:\n",
    "                self._current_index = 0\n",
    "                self._inc *= -1\n",
    "        self._cnt += 1\n",
    "        return cd\n",
    "    \n",
    "    def scb(self, selection):\n",
    "        self._selection = selection\n",
    "        \n",
    "    def rcb(self):\n",
    "        self._selection = None"
   ]
  },
  {
   "cell_type": "code",
   "execution_count": 4,
   "metadata": {
    "collapsed": true
   },
   "outputs": [],
   "source": [
    "# Model (i.e plot) properties for the spectrum channel\n",
    "def spc_model_props():\n",
    "    shsp = dict()\n",
    "    shsp['label'] = 'angle'\n",
    "    shsp['unit'] = 'rad'\n",
    "    shsp['channel'] = 'x_scale'\n",
    "    x_scale = Scale(**shsp)\n",
    "    spsp = dict()\n",
    "    spsp['label'] = 'amplitude'\n",
    "    spsp['unit'] = 'a.u.'\n",
    "    y_scale = Scale(**spsp)\n",
    "    smp = dict()\n",
    "    smp['width'] = 900\n",
    "    smp['height'] = 250\n",
    "    smp['x_scale'] = x_scale\n",
    "    smp['y_scale'] = y_scale\n",
    "    return smp\n",
    "\n",
    "# Model (i.e plot) properties for the image channel\n",
    "def img_model_props(s=-100, e=100, nx=128, ny=128, this=None):\n",
    "    xshsp = dict()\n",
    "    xshsp['start'] = s\n",
    "    xshsp['end'] = e\n",
    "    xshsp['num_points'] = nx\n",
    "    xshsp['label'] = 'x-axis'\n",
    "    xshsp['unit'] = 'mm'\n",
    "    yshsp = dict()\n",
    "    yshsp['start'] = 0\n",
    "    yshsp['end'] = max(s, e)\n",
    "    yshsp['num_points'] = ny\n",
    "    yshsp['label'] = 'y-axis'\n",
    "    yshsp['unit'] = 'mm'\n",
    "    imp = dict()    \n",
    "    imp['width'] = 900\n",
    "    imp['height'] = 250\n",
    "    imp['x_scale'] = Scale(**xshsp)\n",
    "    imp['y_scale'] = Scale(**yshsp)\n",
    "    imp['images_size_threshold'] = 100000\n",
    "    if this:\n",
    "        imp['selection_manager'] = BoxSelectionManager(selection_callback=this.scb, reset_callback=this.rcb)\n",
    "    return imp"
   ]
  },
  {
   "cell_type": "code",
   "execution_count": 5,
   "metadata": {
    "collapsed": true
   },
   "outputs": [],
   "source": [
    "i = 0\n",
    "def open_plot(output):\n",
    "    global i\n",
    "    i += 1\n",
    "    # num. of points in ColumnDataSource\n",
    "    npts = 128\n",
    "    # SpectrumChannel (has multiple DataSource support)\n",
    "    sds = list()\n",
    "    sds.append(XDS('x_scale', num_points=npts))\n",
    "    sds.extend([YDS(n,  num_points=npts) for n in ['y1.1', 'y1.2', 'y1.3']])\n",
    "    sc1 = SpectrumChannel('sc1', data_sources=sds, model_properties=spc_model_props())\n",
    "    # SpectrumChannel (has multiple DataSource support)\n",
    "    sds = list()\n",
    "    sds.append(XDS('x_scale', num_points=npts))\n",
    "    sds.extend([YDS(n,  num_points=npts) for n in ['y2.1', 'y2.2', 'y2.3']])\n",
    "    sc2 = SpectrumChannel('sc2', data_sources=sds, model_properties=spc_model_props())\n",
    "    # ImageChannel (supports only one DataSource)\n",
    "    ids = XYDS(\"is0\", nx=npts, ny=npts)\n",
    "    #import IPython.core.debugger as debugger; debugger.set_trace()\n",
    "    ic = ImageChannel('ic{}'.format(i), data_source=ids, model_properties=img_model_props(nx=npts, ny=npts, this=ids))\n",
    "    # DataStream (has with multiple Channel support)\n",
    "    s1 = DataStream('s{}'.format(i), channels=[ic]) #[sc1, sc2, ic])\n",
    "    # DataStreamer (has with multiple DataStream support)\n",
    "    ds1 = DataStreamer('ds{}'.format(i), data_streams=[s1], update_period=1.0)\n",
    "    # DataStreamerController\n",
    "    kwargs =  {'output':output}\n",
    "    dc1 = DataStreamerController('c{}'.format(i), data_streamer=ds1, **kwargs)\n",
    "    return dc1"
   ]
  },
  {
   "cell_type": "code",
   "execution_count": 6,
   "metadata": {
    "collapsed": true
   },
   "outputs": [],
   "source": [
    "import logging\n",
    "logging.getLogger('tornado').setLevel(logging.ERROR)\n",
    "logging.getLogger('bokeh.server.server').setLevel(logging.ERROR)\n",
    "logging.getLogger('bokeh.server.tornado').setLevel(logging.ERROR)\n",
    "logging.getLogger('bokeh.server.util').setLevel(logging.ERROR)\n",
    "logging.getLogger('fs.client.jupyter.session').setLevel(logging.ERROR)\n",
    "logging.getLogger('fs.client.jupyter.plots').setLevel(logging.ERROR)"
   ]
  },
  {
   "cell_type": "code",
   "execution_count": 7,
   "metadata": {},
   "outputs": [
    {
     "data": {
      "application/vnd.jupyter.widget-view+json": {
       "model_id": "e8a3c68d4d124f9d9d65492d6e8a2153",
       "version_major": 2,
       "version_minor": 0
      },
      "text/html": [
       "<p>Failed to display Jupyter Widget of type <code>Output</code>.</p>\n",
       "<p>\n",
       "  If you're reading this message in Jupyter Notebook or JupyterLab, it may mean\n",
       "  that the widgets JavaScript is still loading. If this message persists, it\n",
       "  likely means that the widgets JavaScript library is either not installed or\n",
       "  not enabled. See the <a href=\"https://ipywidgets.readthedocs.io/en/stable/user_install.html\">Jupyter\n",
       "  Widgets Documentation</a> for setup instructions.\n",
       "</p>\n",
       "<p>\n",
       "  If you're reading this message in another notebook frontend (for example, a static\n",
       "  rendering on GitHub or <a href=\"https://nbviewer.jupyter.org/\">NBViewer</a>),\n",
       "  it may mean that your frontend doesn't currently support widgets.\n",
       "</p>\n"
      ],
      "text/plain": [
       "Output()"
      ]
     },
     "metadata": {},
     "output_type": "display_data"
    }
   ],
   "source": [
    "import time\n",
    "import ipywidgets as ipw\n",
    "from IPython.display import display, clear_output\n",
    "from tools import NotebookCellContent, SharedOutput\n",
    "\n",
    "o0 = ipw.Output()\n",
    "display(o0)\n",
    "\n",
    "class OpenClosePlots(NotebookCellContent):\n",
    "    \n",
    "    def __init__(self):\n",
    "        NotebookCellContent.__init__(self)\n",
    "        self._p1 = None\n",
    "        self._o1 = SharedOutput(False, False)\n",
    "        self._p2 = None\n",
    "        self._o2 = SharedOutput(False, False)\n",
    "        self._b = ipw.Button(description=\"Open Plots\")\n",
    "        self._b.on_click(self.open_plots_clicked)\n",
    "        self._c = ipw.Button(description=\"Close Plots\")\n",
    "        self._c.on_click(self.close_plots_clicked)\n",
    "        buttons = ipw.HBox(children=[self._b, self._c])\n",
    "        self._l = ipw.VBox(children=[buttons, self._o1, self._o2])\n",
    "        display(self._l)\n",
    "        \n",
    "    def printout(self, *args, **kwargs):\n",
    "        with o0:\n",
    "            print(*args, **kwargs)\n",
    "      \n",
    "    def plot_closed_by_user(self, **kwargs):\n",
    "        try:\n",
    "            self.printout(kwargs)\n",
    "        except Exception as e:\n",
    "            self.printout(e)\n",
    "            \n",
    "    def open_plots_clicked(self, b):\n",
    "        try:\n",
    "            self._p1 = open_plot(self._o1)\n",
    "            self._p2 = open_plot(self._o1)\n",
    "        except Exception as e:\n",
    "            self.printout(e)\n",
    "\n",
    "    def close_plots_clicked(self, b):\n",
    "        try:\n",
    "            if self._p1:    \n",
    "                self._p1.close()\n",
    "            if self._p2:    \n",
    "                self._p2.close()\n",
    "        except Exception as e:\n",
    "            self.printout(e)"
   ]
  },
  {
   "cell_type": "code",
   "execution_count": 8,
   "metadata": {},
   "outputs": [
    {
     "data": {
      "application/vnd.jupyter.widget-view+json": {
       "model_id": "f7f7718029594486825575843674e7f3",
       "version_major": 2,
       "version_minor": 0
      },
      "text/html": [
       "<p>Failed to display Jupyter Widget of type <code>VBox</code>.</p>\n",
       "<p>\n",
       "  If you're reading this message in Jupyter Notebook or JupyterLab, it may mean\n",
       "  that the widgets JavaScript is still loading. If this message persists, it\n",
       "  likely means that the widgets JavaScript library is either not installed or\n",
       "  not enabled. See the <a href=\"https://ipywidgets.readthedocs.io/en/stable/user_install.html\">Jupyter\n",
       "  Widgets Documentation</a> for setup instructions.\n",
       "</p>\n",
       "<p>\n",
       "  If you're reading this message in another notebook frontend (for example, a static\n",
       "  rendering on GitHub or <a href=\"https://nbviewer.jupyter.org/\">NBViewer</a>),\n",
       "  it may mean that your frontend doesn't currently support widgets.\n",
       "</p>\n"
      ],
      "text/plain": [
       "VBox(children=(HBox(children=(Button(description='Open Plots', style=ButtonStyle()), Button(description='Close Plots', style=ButtonStyle()))), SharedOutput(), SharedOutput()))"
      ]
     },
     "metadata": {},
     "output_type": "display_data"
    }
   ],
   "source": [
    "w0 = OpenClosePlots()"
   ]
  },
  {
   "cell_type": "code",
   "execution_count": null,
   "metadata": {
    "collapsed": true
   },
   "outputs": [],
   "source": []
  }
 ],
 "metadata": {
  "kernelspec": {
   "display_name": "Python [default]",
   "language": "python",
   "name": "python3"
  },
  "language_info": {
   "codemirror_mode": {
    "name": "ipython",
    "version": 3
   },
   "file_extension": ".py",
   "mimetype": "text/x-python",
   "name": "python",
   "nbconvert_exporter": "python",
   "pygments_lexer": "ipython3",
   "version": "3.6.2"
  }
 },
 "nbformat": 4,
 "nbformat_minor": 2
}
