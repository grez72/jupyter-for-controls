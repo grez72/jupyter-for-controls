{
 "cells": [
  {
   "cell_type": "markdown",
   "metadata": {},
   "source": [
    "### Let's play with the new bokeh 0.12.6 `patch` feature"
   ]
  },
  {
   "cell_type": "code",
   "execution_count": null,
   "metadata": {
    "collapsed": true
   },
   "outputs": [],
   "source": [
    "# some python modules for live data simulation (DataSource)\n",
    "import math\n",
    "import random\n",
    "import numpy as np\n",
    "import logging\n",
    "# bokeh plots data streaming API (see plots.py)\n",
    "from plots import ChannelData, DataSource, BoxSelectionManager\n",
    "from plots import Scale, ImageChannel\n",
    "from plots import DataStream, DataStreamer, DataStreamerController"
   ]
  },
  {
   "cell_type": "code",
   "execution_count": null,
   "metadata": {
    "collapsed": true
   },
   "outputs": [],
   "source": [
    "# 2D (i.e. image data source)\n",
    "class XYDS(DataSource):\n",
    "    \n",
    "    def __init__(self, name, iw=100, ih=500):\n",
    "        DataSource.__init__(self, name)\n",
    "        self._selection = None\n",
    "        self._inc = 1\n",
    "        self._current_index = 0\n",
    "        self._iw, self._ih = iw, ih\n",
    "        x, y = np.linspace(0, 10, self._iw), np.linspace(0, 10, self._ih)\n",
    "        xx, yy = np.meshgrid(x, y)\n",
    "        self._full_image = np.sin(xx) * np.cos(yy)\n",
    "\n",
    "    @property\n",
    "    def width(self):\n",
    "        return self._iw\n",
    "    \n",
    "    @property\n",
    "    def height(self):\n",
    "        return self._ih\n",
    "    \n",
    "    def pull_data(self):\n",
    "        cd = ChannelData(self.name)    \n",
    "        i = self._current_index\n",
    "        cd.buffer = self._full_image[0:i+1, :]\n",
    "        self._current_index += self._inc\n",
    "        if self._current_index > self._ih:\n",
    "            self._current_index = self._ih\n",
    "        return cd\n",
    "    \n",
    "    def scb(self, selection):\n",
    "        self._selection = selection\n",
    "        \n",
    "    def rcb(self):\n",
    "        self._selection = None"
   ]
  },
  {
   "cell_type": "code",
   "execution_count": null,
   "metadata": {
    "collapsed": true
   },
   "outputs": [],
   "source": [
    "# Model (i.e plot) properties for the image channel\n",
    "def img_model_props(this):\n",
    "    xshsp = dict()\n",
    "    xshsp['start'] = - this.width / 2\n",
    "    xshsp['end'] = + this.width / 2\n",
    "    xshsp['num_points'] = this.width\n",
    "    xshsp['label'] = 'x-axis'\n",
    "    xshsp['unit'] = 'mm'\n",
    "    yshsp = dict()\n",
    "    yshsp['start'] = - this.height / 2\n",
    "    yshsp['end'] = + this.height / 2\n",
    "    yshsp['num_points'] = this.height\n",
    "    yshsp['label'] = 'y-axis'\n",
    "    yshsp['unit'] = 'mm'\n",
    "    imp = dict() \n",
    "    imp['image_shape'] = (this.height, this.width)\n",
    "    imp['width'] = 900\n",
    "    imp['height'] = 450\n",
    "    imp['x_scale'] = Scale(**xshsp)\n",
    "    imp['y_scale'] = Scale(**yshsp)\n",
    "    imp['selection_manager'] = BoxSelectionManager(selection_callback=this.scb, reset_callback=this.rcb)\n",
    "    return imp"
   ]
  },
  {
   "cell_type": "code",
   "execution_count": null,
   "metadata": {
    "collapsed": true
   },
   "outputs": [],
   "source": [
    "def open_plots():\n",
    "    # ImageChannel (supports only one DataSource)\n",
    "    ids = XYDS(\"is0\",  iw=1000, ih=1000)\n",
    "    ic = ImageChannel(\"ic\", data_source=ids, model_properties=img_model_props(this=ids))\n",
    "    # DataStream (has with multiple Channel support)\n",
    "    s1 = DataStream('s1', channels=[ic])\n",
    "    # DataStreamer (has with multiple DataStream support)\n",
    "    m1 = DataStreamer('m1', data_streams=[s1], update_period=0.25)\n",
    "    # DataStreamerController (optional widgets to control the DataStreamer)\n",
    "    DataStreamerController('c1', m1)\n",
    "    # setup logging\n",
    "    import logging\n",
    "    l = logging.getLogger('fs.client.jupyter')\n",
    "    l.setLevel(logging.DEBUG)"
   ]
  },
  {
   "cell_type": "code",
   "execution_count": null,
   "metadata": {
    "scrolled": false
   },
   "outputs": [],
   "source": [
    "open_plots()"
   ]
  },
  {
   "cell_type": "code",
   "execution_count": null,
   "metadata": {
    "collapsed": true
   },
   "outputs": [],
   "source": []
  },
  {
   "cell_type": "code",
   "execution_count": null,
   "metadata": {
    "collapsed": true
   },
   "outputs": [],
   "source": []
  }
 ],
 "metadata": {
  "kernelspec": {
   "display_name": "Python 3",
   "language": "python",
   "name": "python3"
  },
  "language_info": {
   "codemirror_mode": {
    "name": "ipython",
    "version": 3
   },
   "file_extension": ".py",
   "mimetype": "text/x-python",
   "name": "python",
   "nbconvert_exporter": "python",
   "pygments_lexer": "ipython3",
   "version": "3.6.0"
  }
 },
 "nbformat": 4,
 "nbformat_minor": 2
}
