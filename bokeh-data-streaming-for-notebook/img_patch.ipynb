{
 "cells": [
  {
   "cell_type": "markdown",
   "metadata": {},
   "source": [
    "### A notebook evaluating a possible implementation for _live Boheh plots in a notebook cell_"
   ]
  },
  {
   "cell_type": "code",
   "execution_count": 1,
   "metadata": {},
   "outputs": [],
   "source": [
    "# some python modules for live data simulation (DataSource)\n",
    "import math\n",
    "import random\n",
    "import numpy as np\n",
    "import logging\n",
    "# bokeh plots data streaming API (see plots.py)\n",
    "from plots import ChannelData, DataSource, BoxSelectionManager\n",
    "from plots import Scale, ImageChannel\n",
    "from plots import DataStream, DataStreamer, DataStreamerController"
   ]
  },
  {
   "cell_type": "code",
   "execution_count": 2,
   "metadata": {},
   "outputs": [],
   "source": [
    "# 2D (i.e. image data source)\n",
    "class XYDS(DataSource):\n",
    "    \n",
    "    def __init__(self, name, iw=100, ih=500):\n",
    "        DataSource.__init__(self, name)\n",
    "        self._selection = None\n",
    "        self._inc = 1\n",
    "        self._current_index = 0\n",
    "        self._iw, self._ih = iw, ih\n",
    "        x, y = np.linspace(0, 10, self._iw), np.linspace(0, 10, self._ih)\n",
    "        xx, yy = np.meshgrid(x, y)\n",
    "        self._full_image = np.sin(xx) * np.cos(yy)\n",
    "\n",
    "    @property\n",
    "    def width(self):\n",
    "        return self._iw\n",
    "    \n",
    "    @property\n",
    "    def height(self):\n",
    "        return self._ih\n",
    "    \n",
    "    def pull_data(self):\n",
    "        cd = ChannelData(self.name)    \n",
    "        i = self._current_index\n",
    "        cd.buffer = self._full_image[0:i+1, :]\n",
    "        self._current_index += self._inc\n",
    "        if self._current_index > self._ih:\n",
    "            self._current_index = self._ih\n",
    "        return cd\n",
    "    \n",
    "    def scb(self, selection):\n",
    "        self._selection = selection\n",
    "        \n",
    "    def rcb(self):\n",
    "        self._selection = None"
   ]
  },
  {
   "cell_type": "code",
   "execution_count": 3,
   "metadata": {},
   "outputs": [],
   "source": [
    "# Model (i.e plot) properties for the image channel\n",
    "def img_model_props(this):\n",
    "    xshsp = dict()\n",
    "    xshsp['image_shape'] = (this.height, this.width)\n",
    "    xshsp['start'] = - this.width / 2\n",
    "    xshsp['end'] = + this.width / 2\n",
    "    xshsp['num_points'] = this.width\n",
    "    xshsp['label'] = 'x-axis'\n",
    "    xshsp['unit'] = 'mm'\n",
    "    yshsp = dict()\n",
    "    yshsp['start'] = - this.height / 2\n",
    "    yshsp['end'] = + this.height / 2\n",
    "    yshsp['num_points'] = this.height\n",
    "    yshsp['label'] = 'y-axis'\n",
    "    yshsp['unit'] = 'mm'\n",
    "    imp = dict()    \n",
    "    imp['width'] = 900\n",
    "    imp['height'] = 250\n",
    "    imp['x_scale'] = Scale(**xshsp)\n",
    "    imp['y_scale'] = Scale(**yshsp)\n",
    "    imp['selection_manager'] = BoxSelectionManager(selection_callback=this.scb, reset_callback=this.rcb)\n",
    "    return imp"
   ]
  },
  {
   "cell_type": "code",
   "execution_count": 4,
   "metadata": {
    "collapsed": true
   },
   "outputs": [],
   "source": [
    "def open_plots():\n",
    "    # ImageChannel (supports only one DataSource)\n",
    "    ids = XYDS(\"is0\")\n",
    "    ic = ImageChannel(\"ic\", data_source=ids, model_properties=img_model_props(this=ids))\n",
    "    # DataStream (has with multiple Channel support)\n",
    "    s1 = DataStream('s1', channels=[ic])\n",
    "    # DataStreamer (has with multiple DataStream support)\n",
    "    m1 = DataStreamer('m1', data_streams=[s1], update_period=0.50)\n",
    "    # DataStreamerController (optional widgets to control the DataStreamer)\n",
    "    DataStreamerController('c1', m1)\n",
    "    # setup logging\n",
    "    import logging\n",
    "    l = logging.getLogger('fs.client.jupyter')\n",
    "    l.setLevel(logging.DEBUG)"
   ]
  },
  {
   "cell_type": "code",
   "execution_count": 5,
   "metadata": {
    "scrolled": false
   },
   "outputs": [
    {
     "name": "stderr",
     "output_type": "stream",
     "text": [
      "[2017-06-27 15:30:21,465] fs.client.jupyter: DataStreamer.__stop_bokeh_server.m1 <<in\n",
      "[2017-06-27 15:30:21,466] fs.client.jupyter: DataStreamer.__uninstall_periodic_callbacks.m1 <<in\n",
      "[2017-06-27 15:30:21,467] fs.client.jupyter: DataStreamer.__uninstall_periodic_callbacks.m1 out>> [took: 1.06 ms]\n",
      "[2017-06-27 15:30:21,468] fs.client.jupyter: DataStreamer.__clear_models.m1 <<in\n",
      "[2017-06-27 15:30:21,470] fs.client.jupyter: DataStreamer.__clear_models.m1 out>> [took: 2.74 ms]\n",
      "[2017-06-27 15:30:21,472] fs.client.jupyter: stopping Bokeh server...\n",
      "[2017-06-27 15:30:21,475] fs.client.jupyter: Bokeh server stopped & cleanup done\n",
      "[2017-06-27 15:30:21,477] fs.client.jupyter: DataStreamer.__stop_bokeh_server.m1 out>> [took: 12.33 ms]\n"
     ]
    }
   ],
   "source": [
    "open_plots()"
   ]
  },
  {
   "cell_type": "code",
   "execution_count": 6,
   "metadata": {},
   "outputs": [
    {
     "name": "stderr",
     "output_type": "stream",
     "text": [
      "[2017-06-27 15:30:15,289] fs.client.jupyter: DataStream.update.s1 <<in\n",
      "[2017-06-27 15:30:15,296] fs.client.jupyter: DataStream.update.s1 out>> [took: 7.11 ms]\n",
      "[2017-06-27 15:30:15,790] fs.client.jupyter: DataStream.update.s1 <<in\n",
      "[2017-06-27 15:30:15,797] fs.client.jupyter: DataStream.update.s1 out>> [took: 6.84 ms]\n",
      "[2017-06-27 15:30:16,293] fs.client.jupyter: DataStream.update.s1 <<in\n",
      "[2017-06-27 15:30:16,301] fs.client.jupyter: DataStream.update.s1 out>> [took: 7.17 ms]\n",
      "[2017-06-27 15:30:16,798] fs.client.jupyter: DataStream.update.s1 <<in\n",
      "[2017-06-27 15:30:16,805] fs.client.jupyter: DataStream.update.s1 out>> [took: 7.11 ms]\n",
      "[2017-06-27 15:30:17,300] fs.client.jupyter: DataStream.update.s1 <<in\n",
      "[2017-06-27 15:30:17,307] fs.client.jupyter: DataStream.update.s1 out>> [took: 6.92 ms]\n"
     ]
    }
   ],
   "source": [
    "import logging\n",
    "l = logging.getLogger('fs.client.jupyter')\n",
    "l.setLevel(logging.DEBUG)"
   ]
  },
  {
   "cell_type": "code",
   "execution_count": null,
   "metadata": {
    "collapsed": true
   },
   "outputs": [],
   "source": []
  }
 ],
 "metadata": {
  "kernelspec": {
   "display_name": "Python 3",
   "language": "python",
   "name": "python3"
  },
  "language_info": {
   "codemirror_mode": {
    "name": "ipython",
    "version": 3
   },
   "file_extension": ".py",
   "mimetype": "text/x-python",
   "name": "python",
   "nbconvert_exporter": "python",
   "pygments_lexer": "ipython3",
   "version": "3.6.0"
  }
 },
 "nbformat": 4,
 "nbformat_minor": 2
}
